{
 "cells": [
  {
   "cell_type": "markdown",
   "id": "0a43445f",
   "metadata": {
    "papermill": {
     "duration": 0.009813,
     "end_time": "2023-06-26T16:33:45.456616",
     "exception": false,
     "start_time": "2023-06-26T16:33:45.446803",
     "status": "completed"
    },
    "tags": []
   },
   "source": [
    "# 1. Importing necessary libraries "
   ]
  },
  {
   "cell_type": "code",
   "execution_count": 1,
   "id": "28b68375",
   "metadata": {
    "_cell_guid": "b1076dfc-b9ad-4769-8c92-a6c4dae69d19",
    "_uuid": "8f2839f25d086af736a60e9eeb907d3b93b6e0e5",
    "execution": {
     "iopub.execute_input": "2023-06-26T16:33:45.474417Z",
     "iopub.status.busy": "2023-06-26T16:33:45.473981Z",
     "iopub.status.idle": "2023-06-26T16:33:49.275525Z",
     "shell.execute_reply": "2023-06-26T16:33:49.273979Z"
    },
    "papermill": {
     "duration": 3.814054,
     "end_time": "2023-06-26T16:33:49.278282",
     "exception": false,
     "start_time": "2023-06-26T16:33:45.464228",
     "status": "completed"
    },
    "tags": []
   },
   "outputs": [],
   "source": [
    "import numpy as np \n",
    "import pandas as pd\n",
    "import matplotlib.pyplot as plt\n",
    "import seaborn as sns\n",
    "import math\n",
    "\n",
    "import warnings\n",
    "warnings.filterwarnings('ignore')\n",
    "\n",
    "from sklearn.preprocessing import LabelEncoder, MinMaxScaler\n",
    "from sklearn.model_selection import train_test_split\n",
    "from sklearn.metrics import roc_auc_score\n",
    "\n",
    "import optuna\n",
    "from lightgbm import LGBMClassifier, early_stopping"
   ]
  },
  {
   "cell_type": "markdown",
   "id": "b664ff5f",
   "metadata": {
    "papermill": {
     "duration": 0.0062,
     "end_time": "2023-06-26T16:33:49.292060",
     "exception": false,
     "start_time": "2023-06-26T16:33:49.285860",
     "status": "completed"
    },
    "tags": []
   },
   "source": [
    "# 2. Importing the datasets"
   ]
  },
  {
   "cell_type": "code",
   "execution_count": 2,
   "id": "d4be8408",
   "metadata": {
    "execution": {
     "iopub.execute_input": "2023-06-26T16:33:49.306615Z",
     "iopub.status.busy": "2023-06-26T16:33:49.306168Z",
     "iopub.status.idle": "2023-06-26T16:33:49.670381Z",
     "shell.execute_reply": "2023-06-26T16:33:49.668476Z"
    },
    "papermill": {
     "duration": 0.374941,
     "end_time": "2023-06-26T16:33:49.673322",
     "exception": false,
     "start_time": "2023-06-26T16:33:49.298381",
     "status": "completed"
    },
    "tags": []
   },
   "outputs": [],
   "source": [
    "train = pd.read_csv('/kaggle/input/playground-series-s3e17/train.csv')\n",
    "test = pd.read_csv('/kaggle/input/playground-series-s3e17/test.csv')"
   ]
  },
  {
   "cell_type": "code",
   "execution_count": 3,
   "id": "3712e8ca",
   "metadata": {
    "execution": {
     "iopub.execute_input": "2023-06-26T16:33:49.689980Z",
     "iopub.status.busy": "2023-06-26T16:33:49.689578Z",
     "iopub.status.idle": "2023-06-26T16:33:49.727763Z",
     "shell.execute_reply": "2023-06-26T16:33:49.726630Z"
    },
    "papermill": {
     "duration": 0.048595,
     "end_time": "2023-06-26T16:33:49.729722",
     "exception": false,
     "start_time": "2023-06-26T16:33:49.681127",
     "status": "completed"
    },
    "tags": []
   },
   "outputs": [
    {
     "data": {
      "text/html": [
       "<div>\n",
       "<style scoped>\n",
       "    .dataframe tbody tr th:only-of-type {\n",
       "        vertical-align: middle;\n",
       "    }\n",
       "\n",
       "    .dataframe tbody tr th {\n",
       "        vertical-align: top;\n",
       "    }\n",
       "\n",
       "    .dataframe thead th {\n",
       "        text-align: right;\n",
       "    }\n",
       "</style>\n",
       "<table border=\"1\" class=\"dataframe\">\n",
       "  <thead>\n",
       "    <tr style=\"text-align: right;\">\n",
       "      <th></th>\n",
       "      <th>id</th>\n",
       "      <th>Product ID</th>\n",
       "      <th>Type</th>\n",
       "      <th>Air temperature [K]</th>\n",
       "      <th>Process temperature [K]</th>\n",
       "      <th>Rotational speed [rpm]</th>\n",
       "      <th>Torque [Nm]</th>\n",
       "      <th>Tool wear [min]</th>\n",
       "      <th>Machine failure</th>\n",
       "      <th>TWF</th>\n",
       "      <th>HDF</th>\n",
       "      <th>PWF</th>\n",
       "      <th>OSF</th>\n",
       "      <th>RNF</th>\n",
       "    </tr>\n",
       "  </thead>\n",
       "  <tbody>\n",
       "    <tr>\n",
       "      <th>0</th>\n",
       "      <td>0</td>\n",
       "      <td>L50096</td>\n",
       "      <td>L</td>\n",
       "      <td>300.6</td>\n",
       "      <td>309.6</td>\n",
       "      <td>1596</td>\n",
       "      <td>36.1</td>\n",
       "      <td>140</td>\n",
       "      <td>0</td>\n",
       "      <td>0</td>\n",
       "      <td>0</td>\n",
       "      <td>0</td>\n",
       "      <td>0</td>\n",
       "      <td>0</td>\n",
       "    </tr>\n",
       "    <tr>\n",
       "      <th>1</th>\n",
       "      <td>1</td>\n",
       "      <td>M20343</td>\n",
       "      <td>M</td>\n",
       "      <td>302.6</td>\n",
       "      <td>312.1</td>\n",
       "      <td>1759</td>\n",
       "      <td>29.1</td>\n",
       "      <td>200</td>\n",
       "      <td>0</td>\n",
       "      <td>0</td>\n",
       "      <td>0</td>\n",
       "      <td>0</td>\n",
       "      <td>0</td>\n",
       "      <td>0</td>\n",
       "    </tr>\n",
       "    <tr>\n",
       "      <th>2</th>\n",
       "      <td>2</td>\n",
       "      <td>L49454</td>\n",
       "      <td>L</td>\n",
       "      <td>299.3</td>\n",
       "      <td>308.5</td>\n",
       "      <td>1805</td>\n",
       "      <td>26.5</td>\n",
       "      <td>25</td>\n",
       "      <td>0</td>\n",
       "      <td>0</td>\n",
       "      <td>0</td>\n",
       "      <td>0</td>\n",
       "      <td>0</td>\n",
       "      <td>0</td>\n",
       "    </tr>\n",
       "    <tr>\n",
       "      <th>3</th>\n",
       "      <td>3</td>\n",
       "      <td>L53355</td>\n",
       "      <td>L</td>\n",
       "      <td>301.0</td>\n",
       "      <td>310.9</td>\n",
       "      <td>1524</td>\n",
       "      <td>44.3</td>\n",
       "      <td>197</td>\n",
       "      <td>0</td>\n",
       "      <td>0</td>\n",
       "      <td>0</td>\n",
       "      <td>0</td>\n",
       "      <td>0</td>\n",
       "      <td>0</td>\n",
       "    </tr>\n",
       "    <tr>\n",
       "      <th>4</th>\n",
       "      <td>4</td>\n",
       "      <td>M24050</td>\n",
       "      <td>M</td>\n",
       "      <td>298.0</td>\n",
       "      <td>309.0</td>\n",
       "      <td>1641</td>\n",
       "      <td>35.4</td>\n",
       "      <td>34</td>\n",
       "      <td>0</td>\n",
       "      <td>0</td>\n",
       "      <td>0</td>\n",
       "      <td>0</td>\n",
       "      <td>0</td>\n",
       "      <td>0</td>\n",
       "    </tr>\n",
       "  </tbody>\n",
       "</table>\n",
       "</div>"
      ],
      "text/plain": [
       "   id Product ID Type  Air temperature [K]  Process temperature [K]  \\\n",
       "0   0     L50096    L                300.6                    309.6   \n",
       "1   1     M20343    M                302.6                    312.1   \n",
       "2   2     L49454    L                299.3                    308.5   \n",
       "3   3     L53355    L                301.0                    310.9   \n",
       "4   4     M24050    M                298.0                    309.0   \n",
       "\n",
       "   Rotational speed [rpm]  Torque [Nm]  Tool wear [min]  Machine failure  TWF  \\\n",
       "0                    1596         36.1              140                0    0   \n",
       "1                    1759         29.1              200                0    0   \n",
       "2                    1805         26.5               25                0    0   \n",
       "3                    1524         44.3              197                0    0   \n",
       "4                    1641         35.4               34                0    0   \n",
       "\n",
       "   HDF  PWF  OSF  RNF  \n",
       "0    0    0    0    0  \n",
       "1    0    0    0    0  \n",
       "2    0    0    0    0  \n",
       "3    0    0    0    0  \n",
       "4    0    0    0    0  "
      ]
     },
     "execution_count": 3,
     "metadata": {},
     "output_type": "execute_result"
    }
   ],
   "source": [
    "train.head()"
   ]
  },
  {
   "cell_type": "markdown",
   "id": "68350dbe",
   "metadata": {
    "papermill": {
     "duration": 0.006345,
     "end_time": "2023-06-26T16:33:49.743496",
     "exception": false,
     "start_time": "2023-06-26T16:33:49.737151",
     "status": "completed"
    },
    "tags": []
   },
   "source": [
    "# 3. Data Cleaning"
   ]
  },
  {
   "cell_type": "code",
   "execution_count": 4,
   "id": "48f6aca6",
   "metadata": {
    "execution": {
     "iopub.execute_input": "2023-06-26T16:33:49.758826Z",
     "iopub.status.busy": "2023-06-26T16:33:49.758385Z",
     "iopub.status.idle": "2023-06-26T16:33:49.785678Z",
     "shell.execute_reply": "2023-06-26T16:33:49.783667Z"
    },
    "papermill": {
     "duration": 0.038979,
     "end_time": "2023-06-26T16:33:49.789237",
     "exception": false,
     "start_time": "2023-06-26T16:33:49.750258",
     "status": "completed"
    },
    "tags": []
   },
   "outputs": [],
   "source": [
    "train.drop(['id','Product ID'],axis=1,inplace=True)\n",
    "test.drop(['Product ID'],axis=1,inplace=True)"
   ]
  },
  {
   "cell_type": "code",
   "execution_count": 5,
   "id": "ba37a09a",
   "metadata": {
    "execution": {
     "iopub.execute_input": "2023-06-26T16:33:49.806823Z",
     "iopub.status.busy": "2023-06-26T16:33:49.806436Z",
     "iopub.status.idle": "2023-06-26T16:33:49.849440Z",
     "shell.execute_reply": "2023-06-26T16:33:49.847972Z"
    },
    "papermill": {
     "duration": 0.053724,
     "end_time": "2023-06-26T16:33:49.851653",
     "exception": false,
     "start_time": "2023-06-26T16:33:49.797929",
     "status": "completed"
    },
    "tags": []
   },
   "outputs": [
    {
     "name": "stdout",
     "output_type": "stream",
     "text": [
      "<class 'pandas.core.frame.DataFrame'>\n",
      "RangeIndex: 136429 entries, 0 to 136428\n",
      "Data columns (total 12 columns):\n",
      " #   Column                   Non-Null Count   Dtype  \n",
      "---  ------                   --------------   -----  \n",
      " 0   Type                     136429 non-null  object \n",
      " 1   Air temperature [K]      136429 non-null  float64\n",
      " 2   Process temperature [K]  136429 non-null  float64\n",
      " 3   Rotational speed [rpm]   136429 non-null  int64  \n",
      " 4   Torque [Nm]              136429 non-null  float64\n",
      " 5   Tool wear [min]          136429 non-null  int64  \n",
      " 6   Machine failure          136429 non-null  int64  \n",
      " 7   TWF                      136429 non-null  int64  \n",
      " 8   HDF                      136429 non-null  int64  \n",
      " 9   PWF                      136429 non-null  int64  \n",
      " 10  OSF                      136429 non-null  int64  \n",
      " 11  RNF                      136429 non-null  int64  \n",
      "dtypes: float64(3), int64(8), object(1)\n",
      "memory usage: 12.5+ MB\n"
     ]
    }
   ],
   "source": [
    "train.info()"
   ]
  },
  {
   "cell_type": "code",
   "execution_count": 6,
   "id": "b8df1c0b",
   "metadata": {
    "execution": {
     "iopub.execute_input": "2023-06-26T16:33:49.867618Z",
     "iopub.status.busy": "2023-06-26T16:33:49.867234Z",
     "iopub.status.idle": "2023-06-26T16:33:49.897848Z",
     "shell.execute_reply": "2023-06-26T16:33:49.896380Z"
    },
    "papermill": {
     "duration": 0.042055,
     "end_time": "2023-06-26T16:33:49.900714",
     "exception": false,
     "start_time": "2023-06-26T16:33:49.858659",
     "status": "completed"
    },
    "tags": []
   },
   "outputs": [
    {
     "data": {
      "text/plain": [
       "Type                       0\n",
       "Air temperature [K]        0\n",
       "Process temperature [K]    0\n",
       "Rotational speed [rpm]     0\n",
       "Torque [Nm]                0\n",
       "Tool wear [min]            0\n",
       "Machine failure            0\n",
       "TWF                        0\n",
       "HDF                        0\n",
       "PWF                        0\n",
       "OSF                        0\n",
       "RNF                        0\n",
       "dtype: int64"
      ]
     },
     "execution_count": 6,
     "metadata": {},
     "output_type": "execute_result"
    }
   ],
   "source": [
    "train.isna().sum()"
   ]
  },
  {
   "cell_type": "code",
   "execution_count": 7,
   "id": "c27866cc",
   "metadata": {
    "execution": {
     "iopub.execute_input": "2023-06-26T16:33:49.917640Z",
     "iopub.status.busy": "2023-06-26T16:33:49.917235Z",
     "iopub.status.idle": "2023-06-26T16:33:49.943176Z",
     "shell.execute_reply": "2023-06-26T16:33:49.941952Z"
    },
    "papermill": {
     "duration": 0.03753,
     "end_time": "2023-06-26T16:33:49.945540",
     "exception": false,
     "start_time": "2023-06-26T16:33:49.908010",
     "status": "completed"
    },
    "tags": []
   },
   "outputs": [
    {
     "data": {
      "text/plain": [
       "id                         0\n",
       "Type                       0\n",
       "Air temperature [K]        0\n",
       "Process temperature [K]    0\n",
       "Rotational speed [rpm]     0\n",
       "Torque [Nm]                0\n",
       "Tool wear [min]            0\n",
       "TWF                        0\n",
       "HDF                        0\n",
       "PWF                        0\n",
       "OSF                        0\n",
       "RNF                        0\n",
       "dtype: int64"
      ]
     },
     "execution_count": 7,
     "metadata": {},
     "output_type": "execute_result"
    }
   ],
   "source": [
    "test.isna().sum()"
   ]
  },
  {
   "cell_type": "code",
   "execution_count": 8,
   "id": "e9b78ba4",
   "metadata": {
    "execution": {
     "iopub.execute_input": "2023-06-26T16:33:49.962096Z",
     "iopub.status.busy": "2023-06-26T16:33:49.961650Z",
     "iopub.status.idle": "2023-06-26T16:33:50.027420Z",
     "shell.execute_reply": "2023-06-26T16:33:50.026706Z"
    },
    "papermill": {
     "duration": 0.076168,
     "end_time": "2023-06-26T16:33:50.029292",
     "exception": false,
     "start_time": "2023-06-26T16:33:49.953124",
     "status": "completed"
    },
    "tags": []
   },
   "outputs": [
    {
     "name": "stdout",
     "output_type": "stream",
     "text": [
      "Duplicates: 1156\n"
     ]
    }
   ],
   "source": [
    "print(\"Duplicates:\",train.duplicated().sum())\n",
    "train = train.drop_duplicates()"
   ]
  },
  {
   "cell_type": "code",
   "execution_count": 9,
   "id": "9d46de61",
   "metadata": {
    "execution": {
     "iopub.execute_input": "2023-06-26T16:33:50.045971Z",
     "iopub.status.busy": "2023-06-26T16:33:50.045122Z",
     "iopub.status.idle": "2023-06-26T16:33:50.051338Z",
     "shell.execute_reply": "2023-06-26T16:33:50.049998Z"
    },
    "papermill": {
     "duration": 0.017316,
     "end_time": "2023-06-26T16:33:50.053750",
     "exception": false,
     "start_time": "2023-06-26T16:33:50.036434",
     "status": "completed"
    },
    "tags": []
   },
   "outputs": [],
   "source": [
    "train.columns = ['Type','Air_Temperature','Process_Temperature',\n",
    "              'Rotational_Speed','Torque','Tool_Wear','Machine_failure',\n",
    "              'TWF','HDF','PWF','OSF','RNF']\n",
    "test.columns = ['id','Type','Air_Temperature','Process_Temperature',\n",
    "              'Rotational_Speed','Torque','Tool_Wear',\n",
    "              'TWF','HDF','PWF','OSF','RNF']"
   ]
  },
  {
   "cell_type": "markdown",
   "id": "4ac845e8",
   "metadata": {
    "papermill": {
     "duration": 0.00701,
     "end_time": "2023-06-26T16:33:50.068116",
     "exception": false,
     "start_time": "2023-06-26T16:33:50.061106",
     "status": "completed"
    },
    "tags": []
   },
   "source": [
    "# 4. Visualizing Data"
   ]
  },
  {
   "cell_type": "code",
   "execution_count": 10,
   "id": "bc3946c7",
   "metadata": {
    "execution": {
     "iopub.execute_input": "2023-06-26T16:33:50.084375Z",
     "iopub.status.busy": "2023-06-26T16:33:50.083645Z",
     "iopub.status.idle": "2023-06-26T16:33:50.732915Z",
     "shell.execute_reply": "2023-06-26T16:33:50.732098Z"
    },
    "papermill": {
     "duration": 0.659703,
     "end_time": "2023-06-26T16:33:50.734949",
     "exception": false,
     "start_time": "2023-06-26T16:33:50.075246",
     "status": "completed"
    },
    "tags": []
   },
   "outputs": [
    {
     "data": {
      "image/png": "[encoded data removed]",
      "text/plain": [
       "<Figure size 1200x800 with 2 Axes>"
      ]
     },
     "metadata": {},
     "output_type": "display_data"
    }
   ],
   "source": [
    "plt.figure(figsize=(12,8))\n",
    "sns.heatmap(train.corr(),annot=True,cmap='rocket_r')\n",
    "plt.show()"
   ]
  },
  {
   "cell_type": "code",
   "execution_count": 11,
   "id": "b7cd8e50",
   "metadata": {
    "execution": {
     "iopub.execute_input": "2023-06-26T16:33:50.754436Z",
     "iopub.status.busy": "2023-06-26T16:33:50.753984Z",
     "iopub.status.idle": "2023-06-26T16:33:50.934052Z",
     "shell.execute_reply": "2023-06-26T16:33:50.933075Z"
    },
    "papermill": {
     "duration": 0.192751,
     "end_time": "2023-06-26T16:33:50.936446",
     "exception": false,
     "start_time": "2023-06-26T16:33:50.743695",
     "status": "completed"
    },
    "tags": []
   },
   "outputs": [
    {
     "data": {
      "image/png": "[encoded data removed]",
      "text/plain": [
       "<Figure size 800x500 with 1 Axes>"
      ]
     },
     "metadata": {},
     "output_type": "display_data"
    }
   ],
   "source": [
    "train['Type'].value_counts().plot(kind='pie',\n",
    "                                  explode=[.05,.05,.05],\n",
    "                                  autopct='%1.2f%%',\n",
    "                                  figsize=(8,5))\n",
    "plt.title('Failures by Machine Type')\n",
    "plt.show()"
   ]
  },
  {
   "cell_type": "markdown",
   "id": "b105d16f",
   "metadata": {
    "papermill": {
     "duration": 0.011598,
     "end_time": "2023-06-26T16:33:50.959520",
     "exception": false,
     "start_time": "2023-06-26T16:33:50.947922",
     "status": "completed"
    },
    "tags": []
   },
   "source": [
    "# 5. Feature Engineering"
   ]
  },
  {
   "cell_type": "code",
   "execution_count": 12,
   "id": "9f8f3657",
   "metadata": {
    "execution": {
     "iopub.execute_input": "2023-06-26T16:33:50.984673Z",
     "iopub.status.busy": "2023-06-26T16:33:50.983743Z",
     "iopub.status.idle": "2023-06-26T16:33:50.994135Z",
     "shell.execute_reply": "2023-06-26T16:33:50.993365Z"
    },
    "papermill": {
     "duration": 0.025582,
     "end_time": "2023-06-26T16:33:50.996580",
     "exception": false,
     "start_time": "2023-06-26T16:33:50.970998",
     "status": "completed"
    },
    "tags": []
   },
   "outputs": [],
   "source": [
    "def create_features(df):\n",
    "    df['Failure'] = df[['TWF','HDF','PWF','OSF','RNF']].sum(axis=1)\n",
    "    df['Power'] = df['Torque']*df['Rotational_Speed']\n",
    "    df['Temperature_Difference'] = df['Process_Temperature'] - df['Air_Temperature']\n",
    "    df['Temperature_Ratio'] = df['Air_Temperature'] / df['Process_Temperature']\n",
    "    df['Torque_to_Speed'] = df['Torque'] / df['Rotational_Speed']\n",
    "    df['Speed_to_Temp'] = df['Rotational_Speed'] / df['Process_Temperature']\n",
    "    df['Torque_to_Temp'] = df['Torque'] / df['Process_Temperature']\n",
    "    df['Power_to_Temp'] = df['Power'] / df['Process_Temperature']\n",
    "    df['Temperature_Variability'] = df[['Air_Temperature', 'Process_Temperature']].std(axis=1)\n",
    "    df['Temperature_ChangeRate'] = df['Temperature_Difference'] / df['Tool_Wear']\n",
    "    df['Temperature_ChangeRate'] = np.where(df['Temperature_ChangeRate']== float('inf'),1, df['Temperature_ChangeRate'])\n",
    "    df[\"Torque_WearRatio\"] = df['Torque'] / (df['Tool_Wear'] + 0.0001)\n",
    "    df[\"Torque_WearProduct\"] = df['Torque'] * df['Tool_Wear']\n",
    "    \n",
    "    features = ['Air_Temperature', 'Process_Temperature','Rotational_Speed', 'Torque', 'Tool_Wear']    \n",
    "    for feature in features:\n",
    "        df[f'{feature}Squared'] = df[feature] ** 2\n",
    "        df[f'{feature}Cubed'] = df[feature] ** 3\n",
    "        df[f'{feature}Log'] = df[feature].apply(lambda x: math.log(x) if x > 0 else 0)\n",
    "    \n",
    "    for feat1 in features:\n",
    "        for feat2 in features:\n",
    "            df[f'{feat1}_{feat2}_Product'] = df[feat1] * df[feat2]\n",
    "            \n",
    "    \n",
    "    return df"
   ]
  },
  {
   "cell_type": "code",
   "execution_count": 13,
   "id": "521049dc",
   "metadata": {
    "execution": {
     "iopub.execute_input": "2023-06-26T16:33:51.020959Z",
     "iopub.status.busy": "2023-06-26T16:33:51.019999Z",
     "iopub.status.idle": "2023-06-26T16:33:51.621044Z",
     "shell.execute_reply": "2023-06-26T16:33:51.620067Z"
    },
    "papermill": {
     "duration": 0.615175,
     "end_time": "2023-06-26T16:33:51.623459",
     "exception": false,
     "start_time": "2023-06-26T16:33:51.008284",
     "status": "completed"
    },
    "tags": []
   },
   "outputs": [
    {
     "data": {
      "text/html": [
       "<div>\n",
       "<style scoped>\n",
       "    .dataframe tbody tr th:only-of-type {\n",
       "        vertical-align: middle;\n",
       "    }\n",
       "\n",
       "    .dataframe tbody tr th {\n",
       "        vertical-align: top;\n",
       "    }\n",
       "\n",
       "    .dataframe thead th {\n",
       "        text-align: right;\n",
       "    }\n",
       "</style>\n",
       "<table border=\"1\" class=\"dataframe\">\n",
       "  <thead>\n",
       "    <tr style=\"text-align: right;\">\n",
       "      <th></th>\n",
       "      <th>Type</th>\n",
       "      <th>Air_Temperature</th>\n",
       "      <th>Process_Temperature</th>\n",
       "      <th>Rotational_Speed</th>\n",
       "      <th>Torque</th>\n",
       "      <th>Tool_Wear</th>\n",
       "      <th>Machine_failure</th>\n",
       "      <th>TWF</th>\n",
       "      <th>HDF</th>\n",
       "      <th>PWF</th>\n",
       "      <th>...</th>\n",
       "      <th>Torque_Air_Temperature_Product</th>\n",
       "      <th>Torque_Process_Temperature_Product</th>\n",
       "      <th>Torque_Rotational_Speed_Product</th>\n",
       "      <th>Torque_Torque_Product</th>\n",
       "      <th>Torque_Tool_Wear_Product</th>\n",
       "      <th>Tool_Wear_Air_Temperature_Product</th>\n",
       "      <th>Tool_Wear_Process_Temperature_Product</th>\n",
       "      <th>Tool_Wear_Rotational_Speed_Product</th>\n",
       "      <th>Tool_Wear_Torque_Product</th>\n",
       "      <th>Tool_Wear_Tool_Wear_Product</th>\n",
       "    </tr>\n",
       "  </thead>\n",
       "  <tbody>\n",
       "    <tr>\n",
       "      <th>0</th>\n",
       "      <td>L</td>\n",
       "      <td>300.6</td>\n",
       "      <td>309.6</td>\n",
       "      <td>1596</td>\n",
       "      <td>36.1</td>\n",
       "      <td>140</td>\n",
       "      <td>0</td>\n",
       "      <td>0</td>\n",
       "      <td>0</td>\n",
       "      <td>0</td>\n",
       "      <td>...</td>\n",
       "      <td>10851.66</td>\n",
       "      <td>11176.56</td>\n",
       "      <td>57615.6</td>\n",
       "      <td>1303.21</td>\n",
       "      <td>5054.0</td>\n",
       "      <td>42084.0</td>\n",
       "      <td>43344.0</td>\n",
       "      <td>223440</td>\n",
       "      <td>5054.0</td>\n",
       "      <td>19600</td>\n",
       "    </tr>\n",
       "    <tr>\n",
       "      <th>1</th>\n",
       "      <td>M</td>\n",
       "      <td>302.6</td>\n",
       "      <td>312.1</td>\n",
       "      <td>1759</td>\n",
       "      <td>29.1</td>\n",
       "      <td>200</td>\n",
       "      <td>0</td>\n",
       "      <td>0</td>\n",
       "      <td>0</td>\n",
       "      <td>0</td>\n",
       "      <td>...</td>\n",
       "      <td>8805.66</td>\n",
       "      <td>9082.11</td>\n",
       "      <td>51186.9</td>\n",
       "      <td>846.81</td>\n",
       "      <td>5820.0</td>\n",
       "      <td>60520.0</td>\n",
       "      <td>62420.0</td>\n",
       "      <td>351800</td>\n",
       "      <td>5820.0</td>\n",
       "      <td>40000</td>\n",
       "    </tr>\n",
       "    <tr>\n",
       "      <th>2</th>\n",
       "      <td>L</td>\n",
       "      <td>299.3</td>\n",
       "      <td>308.5</td>\n",
       "      <td>1805</td>\n",
       "      <td>26.5</td>\n",
       "      <td>25</td>\n",
       "      <td>0</td>\n",
       "      <td>0</td>\n",
       "      <td>0</td>\n",
       "      <td>0</td>\n",
       "      <td>...</td>\n",
       "      <td>7931.45</td>\n",
       "      <td>8175.25</td>\n",
       "      <td>47832.5</td>\n",
       "      <td>702.25</td>\n",
       "      <td>662.5</td>\n",
       "      <td>7482.5</td>\n",
       "      <td>7712.5</td>\n",
       "      <td>45125</td>\n",
       "      <td>662.5</td>\n",
       "      <td>625</td>\n",
       "    </tr>\n",
       "    <tr>\n",
       "      <th>3</th>\n",
       "      <td>L</td>\n",
       "      <td>301.0</td>\n",
       "      <td>310.9</td>\n",
       "      <td>1524</td>\n",
       "      <td>44.3</td>\n",
       "      <td>197</td>\n",
       "      <td>0</td>\n",
       "      <td>0</td>\n",
       "      <td>0</td>\n",
       "      <td>0</td>\n",
       "      <td>...</td>\n",
       "      <td>13334.30</td>\n",
       "      <td>13772.87</td>\n",
       "      <td>67513.2</td>\n",
       "      <td>1962.49</td>\n",
       "      <td>8727.1</td>\n",
       "      <td>59297.0</td>\n",
       "      <td>61247.3</td>\n",
       "      <td>300228</td>\n",
       "      <td>8727.1</td>\n",
       "      <td>38809</td>\n",
       "    </tr>\n",
       "    <tr>\n",
       "      <th>4</th>\n",
       "      <td>M</td>\n",
       "      <td>298.0</td>\n",
       "      <td>309.0</td>\n",
       "      <td>1641</td>\n",
       "      <td>35.4</td>\n",
       "      <td>34</td>\n",
       "      <td>0</td>\n",
       "      <td>0</td>\n",
       "      <td>0</td>\n",
       "      <td>0</td>\n",
       "      <td>...</td>\n",
       "      <td>10549.20</td>\n",
       "      <td>10938.60</td>\n",
       "      <td>58091.4</td>\n",
       "      <td>1253.16</td>\n",
       "      <td>1203.6</td>\n",
       "      <td>10132.0</td>\n",
       "      <td>10506.0</td>\n",
       "      <td>55794</td>\n",
       "      <td>1203.6</td>\n",
       "      <td>1156</td>\n",
       "    </tr>\n",
       "  </tbody>\n",
       "</table>\n",
       "<p>5 rows × 64 columns</p>\n",
       "</div>"
      ],
      "text/plain": [
       "  Type  Air_Temperature  Process_Temperature  Rotational_Speed  Torque  \\\n",
       "0    L            300.6                309.6              1596    36.1   \n",
       "1    M            302.6                312.1              1759    29.1   \n",
       "2    L            299.3                308.5              1805    26.5   \n",
       "3    L            301.0                310.9              1524    44.3   \n",
       "4    M            298.0                309.0              1641    35.4   \n",
       "\n",
       "   Tool_Wear  Machine_failure  TWF  HDF  PWF  ...  \\\n",
       "0        140                0    0    0    0  ...   \n",
       "1        200                0    0    0    0  ...   \n",
       "2         25                0    0    0    0  ...   \n",
       "3        197                0    0    0    0  ...   \n",
       "4         34                0    0    0    0  ...   \n",
       "\n",
       "   Torque_Air_Temperature_Product  Torque_Process_Temperature_Product  \\\n",
       "0                        10851.66                            11176.56   \n",
       "1                         8805.66                             9082.11   \n",
       "2                         7931.45                             8175.25   \n",
       "3                        13334.30                            13772.87   \n",
       "4                        10549.20                            10938.60   \n",
       "\n",
       "   Torque_Rotational_Speed_Product  Torque_Torque_Product  \\\n",
       "0                          57615.6                1303.21   \n",
       "1                          51186.9                 846.81   \n",
       "2                          47832.5                 702.25   \n",
       "3                          67513.2                1962.49   \n",
       "4                          58091.4                1253.16   \n",
       "\n",
       "   Torque_Tool_Wear_Product  Tool_Wear_Air_Temperature_Product  \\\n",
       "0                    5054.0                            42084.0   \n",
       "1                    5820.0                            60520.0   \n",
       "2                     662.5                             7482.5   \n",
       "3                    8727.1                            59297.0   \n",
       "4                    1203.6                            10132.0   \n",
       "\n",
       "   Tool_Wear_Process_Temperature_Product  Tool_Wear_Rotational_Speed_Product  \\\n",
       "0                                43344.0                              223440   \n",
       "1                                62420.0                              351800   \n",
       "2                                 7712.5                               45125   \n",
       "3                                61247.3                              300228   \n",
       "4                                10506.0                               55794   \n",
       "\n",
       "   Tool_Wear_Torque_Product  Tool_Wear_Tool_Wear_Product  \n",
       "0                    5054.0                        19600  \n",
       "1                    5820.0                        40000  \n",
       "2                     662.5                          625  \n",
       "3                    8727.1                        38809  \n",
       "4                    1203.6                         1156  \n",
       "\n",
       "[5 rows x 64 columns]"
      ]
     },
     "execution_count": 13,
     "metadata": {},
     "output_type": "execute_result"
    }
   ],
   "source": [
    "train = create_features(train)\n",
    "test = create_features(test)\n",
    "train.head()"
   ]
  },
  {
   "cell_type": "markdown",
   "id": "aeedd02f",
   "metadata": {
    "papermill": {
     "duration": 0.008931,
     "end_time": "2023-06-26T16:33:51.641766",
     "exception": false,
     "start_time": "2023-06-26T16:33:51.632835",
     "status": "completed"
    },
    "tags": []
   },
   "source": [
    "# 6. Preparing data for model"
   ]
  },
  {
   "cell_type": "code",
   "execution_count": 14,
   "id": "543c30f9",
   "metadata": {
    "execution": {
     "iopub.execute_input": "2023-06-26T16:33:51.661623Z",
     "iopub.status.busy": "2023-06-26T16:33:51.661247Z",
     "iopub.status.idle": "2023-06-26T16:33:52.402745Z",
     "shell.execute_reply": "2023-06-26T16:33:52.400519Z"
    },
    "papermill": {
     "duration": 0.754615,
     "end_time": "2023-06-26T16:33:52.405408",
     "exception": false,
     "start_time": "2023-06-26T16:33:51.650793",
     "status": "completed"
    },
    "tags": []
   },
   "outputs": [],
   "source": [
    "le = LabelEncoder()\n",
    "ms = MinMaxScaler()\n",
    "\n",
    "train['Type'] = le.fit_transform(train['Type'])\n",
    "test['Type'] = le.fit_transform(test['Type'])\n",
    "\n",
    "num_cols = test.select_dtypes(include=['int64','float64']).columns.drop(['id','TWF','HDF','PWF','OSF','RNF'])\n",
    "\n",
    "train[num_cols] = ms.fit_transform(train[num_cols])\n",
    "test[num_cols] = ms.fit_transform(test[num_cols])"
   ]
  },
  {
   "cell_type": "code",
   "execution_count": 15,
   "id": "559f0dc1",
   "metadata": {
    "execution": {
     "iopub.execute_input": "2023-06-26T16:33:52.426259Z",
     "iopub.status.busy": "2023-06-26T16:33:52.425912Z",
     "iopub.status.idle": "2023-06-26T16:33:52.467226Z",
     "shell.execute_reply": "2023-06-26T16:33:52.466199Z"
    },
    "papermill": {
     "duration": 0.054158,
     "end_time": "2023-06-26T16:33:52.469605",
     "exception": false,
     "start_time": "2023-06-26T16:33:52.415447",
     "status": "completed"
    },
    "tags": []
   },
   "outputs": [],
   "source": [
    "y_train = train['Machine_failure']\n",
    "x_train = train.drop(['Machine_failure'],axis=1)"
   ]
  },
  {
   "cell_type": "code",
   "execution_count": 16,
   "id": "2877928e",
   "metadata": {
    "execution": {
     "iopub.execute_input": "2023-06-26T16:33:52.490269Z",
     "iopub.status.busy": "2023-06-26T16:33:52.489877Z",
     "iopub.status.idle": "2023-06-26T16:33:52.641320Z",
     "shell.execute_reply": "2023-06-26T16:33:52.639911Z"
    },
    "papermill": {
     "duration": 0.165502,
     "end_time": "2023-06-26T16:33:52.644365",
     "exception": false,
     "start_time": "2023-06-26T16:33:52.478863",
     "status": "completed"
    },
    "tags": []
   },
   "outputs": [],
   "source": [
    "x_train, x_test, y_train, y_test = train_test_split(x_train,y_train, test_size=0.3, random_state=123)\n",
    "x_val, x_test, y_val, y_test = train_test_split(x_test,y_test, test_size=0.5, random_state=123)"
   ]
  },
  {
   "cell_type": "markdown",
   "id": "8faa5791",
   "metadata": {
    "papermill": {
     "duration": 0.008778,
     "end_time": "2023-06-26T16:33:52.662635",
     "exception": false,
     "start_time": "2023-06-26T16:33:52.653857",
     "status": "completed"
    },
    "tags": []
   },
   "source": [
    "# 7. Optuna Hyperparamter Search"
   ]
  },
  {
   "cell_type": "code",
   "execution_count": 17,
   "id": "24c49e47",
   "metadata": {
    "execution": {
     "iopub.execute_input": "2023-06-26T16:33:52.682698Z",
     "iopub.status.busy": "2023-06-26T16:33:52.682244Z",
     "iopub.status.idle": "2023-06-26T16:38:11.022195Z",
     "shell.execute_reply": "2023-06-26T16:38:11.021560Z"
    },
    "papermill": {
     "duration": 258.352463,
     "end_time": "2023-06-26T16:38:11.024177",
     "exception": false,
     "start_time": "2023-06-26T16:33:52.671714",
     "status": "completed"
    },
    "tags": []
   },
   "outputs": [
    {
     "name": "stderr",
     "output_type": "stream",
     "text": [
      "[I 2023-06-26 16:33:52,688] A new study created in memory with name: no-name-a3ad5bf3-61d6-461e-b564-14eb660b8d99\n"
     ]
    },
    {
     "name": "stdout",
     "output_type": "stream",
     "text": [
      "[LightGBM] [Warning] lambda_l1 is set=0, reg_alpha=0 will be ignored. Current value: lambda_l1=0\n",
      "[LightGBM] [Warning] feature_fraction is set=0.8225002760452609, colsample_bytree=1.0 will be ignored. Current value: feature_fraction=0.8225002760452609\n",
      "[LightGBM] [Warning] lambda_l2 is set=1, reg_lambda=0 will be ignored. Current value: lambda_l2=1\n"
     ]
    },
    {
     "name": "stderr",
     "output_type": "stream",
     "text": [
      "[I 2023-06-26 16:34:09,745] Trial 0 finished with value: 0.9673831846124077 and parameters: {'num_leaves': 48, 'max_depth': 7, 'n_estimators': 1567, 'reg_alpha': 0, 'reg_lambda': 0, 'learning_rate': 0.008411829387129475, 'subsample': 0.6389165106099335, 'lambda_l1': 0, 'lambda_l2': 1, 'feature_fraction': 0.8225002760452609}. Best is trial 0 with value: 0.9673831846124077.\n"
     ]
    },
    {
     "name": "stdout",
     "output_type": "stream",
     "text": [
      "[LightGBM] [Warning] lambda_l1 is set=0, reg_alpha=0 will be ignored. Current value: lambda_l1=0\n",
      "[LightGBM] [Warning] feature_fraction is set=0.6888384624646251, colsample_bytree=1.0 will be ignored. Current value: feature_fraction=0.6888384624646251\n",
      "[LightGBM] [Warning] lambda_l2 is set=3, reg_lambda=0 will be ignored. Current value: lambda_l2=3\n"
     ]
    },
    {
     "name": "stderr",
     "output_type": "stream",
     "text": [
      "[I 2023-06-26 16:34:12,571] Trial 1 finished with value: 0.9674234192664921 and parameters: {'num_leaves': 94, 'max_depth': 5, 'n_estimators': 1177, 'reg_alpha': 0, 'reg_lambda': 0, 'learning_rate': 0.06921489702883656, 'subsample': 0.6235505129630725, 'lambda_l1': 0, 'lambda_l2': 3, 'feature_fraction': 0.6888384624646251}. Best is trial 1 with value: 0.9674234192664921.\n"
     ]
    },
    {
     "name": "stdout",
     "output_type": "stream",
     "text": [
      "[LightGBM] [Warning] lambda_l1 is set=3, reg_alpha=0 will be ignored. Current value: lambda_l1=3\n",
      "[LightGBM] [Warning] feature_fraction is set=0.6181776219387167, colsample_bytree=1.0 will be ignored. Current value: feature_fraction=0.6181776219387167\n",
      "[LightGBM] [Warning] lambda_l2 is set=3, reg_lambda=0 will be ignored. Current value: lambda_l2=3\n"
     ]
    },
    {
     "name": "stderr",
     "output_type": "stream",
     "text": [
      "[I 2023-06-26 16:34:22,832] Trial 2 finished with value: 0.9613705458144797 and parameters: {'num_leaves': 57, 'max_depth': 1, 'n_estimators': 1122, 'reg_alpha': 0, 'reg_lambda': 0, 'learning_rate': 0.013311857448118289, 'subsample': 0.9890010727472418, 'lambda_l1': 3, 'lambda_l2': 3, 'feature_fraction': 0.6181776219387167}. Best is trial 1 with value: 0.9674234192664921.\n"
     ]
    },
    {
     "name": "stdout",
     "output_type": "stream",
     "text": [
      "[LightGBM] [Warning] lambda_l1 is set=0, reg_alpha=0 will be ignored. Current value: lambda_l1=0\n",
      "[LightGBM] [Warning] feature_fraction is set=0.5650221381071393, colsample_bytree=1.0 will be ignored. Current value: feature_fraction=0.5650221381071393\n",
      "[LightGBM] [Warning] lambda_l2 is set=1, reg_lambda=0 will be ignored. Current value: lambda_l2=1\n"
     ]
    },
    {
     "name": "stderr",
     "output_type": "stream",
     "text": [
      "[I 2023-06-26 16:34:24,217] Trial 3 finished with value: 0.9620532945592205 and parameters: {'num_leaves': 87, 'max_depth': 3, 'n_estimators': 77, 'reg_alpha': 0, 'reg_lambda': 0, 'learning_rate': 0.03724242367189369, 'subsample': 0.6100950022359113, 'lambda_l1': 0, 'lambda_l2': 1, 'feature_fraction': 0.5650221381071393}. Best is trial 1 with value: 0.9674234192664921.\n"
     ]
    },
    {
     "name": "stdout",
     "output_type": "stream",
     "text": [
      "[LightGBM] [Warning] lambda_l1 is set=1, reg_alpha=0 will be ignored. Current value: lambda_l1=1\n",
      "[LightGBM] [Warning] feature_fraction is set=0.8863104571755187, colsample_bytree=1.0 will be ignored. Current value: feature_fraction=0.8863104571755187\n",
      "[LightGBM] [Warning] lambda_l2 is set=0, reg_lambda=0 will be ignored. Current value: lambda_l2=0\n"
     ]
    },
    {
     "name": "stderr",
     "output_type": "stream",
     "text": [
      "[I 2023-06-26 16:34:28,124] Trial 4 finished with value: 0.9685262674148607 and parameters: {'num_leaves': 96, 'max_depth': 6, 'n_estimators': 551, 'reg_alpha': 0, 'reg_lambda': 0, 'learning_rate': 0.07589836274237408, 'subsample': 0.6883031029799151, 'lambda_l1': 1, 'lambda_l2': 0, 'feature_fraction': 0.8863104571755187}. Best is trial 4 with value: 0.9685262674148607.\n"
     ]
    },
    {
     "name": "stdout",
     "output_type": "stream",
     "text": [
      "[LightGBM] [Warning] lambda_l1 is set=2, reg_alpha=0 will be ignored. Current value: lambda_l1=2\n",
      "[LightGBM] [Warning] feature_fraction is set=0.773865546843318, colsample_bytree=1.0 will be ignored. Current value: feature_fraction=0.773865546843318\n",
      "[LightGBM] [Warning] lambda_l2 is set=0, reg_lambda=0 will be ignored. Current value: lambda_l2=0\n"
     ]
    },
    {
     "name": "stderr",
     "output_type": "stream",
     "text": [
      "[I 2023-06-26 16:34:31,738] Trial 5 finished with value: 0.9669254088274986 and parameters: {'num_leaves': 42, 'max_depth': 2, 'n_estimators': 946, 'reg_alpha': 0, 'reg_lambda': 0, 'learning_rate': 0.06661765946625801, 'subsample': 0.8517350879979957, 'lambda_l1': 2, 'lambda_l2': 0, 'feature_fraction': 0.773865546843318}. Best is trial 4 with value: 0.9685262674148607.\n"
     ]
    },
    {
     "name": "stdout",
     "output_type": "stream",
     "text": [
      "[LightGBM] [Warning] lambda_l1 is set=0, reg_alpha=0 will be ignored. Current value: lambda_l1=0\n",
      "[LightGBM] [Warning] feature_fraction is set=0.6878659833891239, colsample_bytree=1.0 will be ignored. Current value: feature_fraction=0.6878659833891239\n",
      "[LightGBM] [Warning] lambda_l2 is set=4, reg_lambda=0 will be ignored. Current value: lambda_l2=4\n"
     ]
    },
    {
     "name": "stderr",
     "output_type": "stream",
     "text": [
      "[I 2023-06-26 16:34:48,388] Trial 6 finished with value: 0.9644551251041915 and parameters: {'num_leaves': 94, 'max_depth': 1, 'n_estimators': 1882, 'reg_alpha': 0, 'reg_lambda': 0, 'learning_rate': 0.010987951351203635, 'subsample': 0.8715925770423454, 'lambda_l1': 0, 'lambda_l2': 4, 'feature_fraction': 0.6878659833891239}. Best is trial 4 with value: 0.9685262674148607.\n"
     ]
    },
    {
     "name": "stdout",
     "output_type": "stream",
     "text": [
      "[LightGBM] [Warning] lambda_l1 is set=4, reg_alpha=0 will be ignored. Current value: lambda_l1=4\n",
      "[LightGBM] [Warning] feature_fraction is set=0.9383273117840321, colsample_bytree=1.0 will be ignored. Current value: feature_fraction=0.9383273117840321\n",
      "[LightGBM] [Warning] lambda_l2 is set=3, reg_lambda=0 will be ignored. Current value: lambda_l2=3\n"
     ]
    },
    {
     "name": "stderr",
     "output_type": "stream",
     "text": [
      "[I 2023-06-26 16:34:57,299] Trial 7 finished with value: 0.9574512718802097 and parameters: {'num_leaves': 28, 'max_depth': 2, 'n_estimators': 662, 'reg_alpha': 0, 'reg_lambda': 0, 'learning_rate': 0.005478459869437744, 'subsample': 0.5340704568419508, 'lambda_l1': 4, 'lambda_l2': 3, 'feature_fraction': 0.9383273117840321}. Best is trial 4 with value: 0.9685262674148607.\n"
     ]
    },
    {
     "name": "stdout",
     "output_type": "stream",
     "text": [
      "[LightGBM] [Warning] lambda_l1 is set=4, reg_alpha=0 will be ignored. Current value: lambda_l1=4\n",
      "[LightGBM] [Warning] feature_fraction is set=0.6395803982729762, colsample_bytree=1.0 will be ignored. Current value: feature_fraction=0.6395803982729762\n",
      "[LightGBM] [Warning] lambda_l2 is set=4, reg_lambda=0 will be ignored. Current value: lambda_l2=4\n"
     ]
    },
    {
     "name": "stderr",
     "output_type": "stream",
     "text": [
      "[I 2023-06-26 16:35:01,867] Trial 8 finished with value: 0.9582616241714297 and parameters: {'num_leaves': 96, 'max_depth': 4, 'n_estimators': 323, 'reg_alpha': 0, 'reg_lambda': 0, 'learning_rate': 0.0017601885947582923, 'subsample': 0.5444504503310782, 'lambda_l1': 4, 'lambda_l2': 4, 'feature_fraction': 0.6395803982729762}. Best is trial 4 with value: 0.9685262674148607.\n"
     ]
    },
    {
     "name": "stdout",
     "output_type": "stream",
     "text": [
      "[LightGBM] [Warning] lambda_l1 is set=3, reg_alpha=0 will be ignored. Current value: lambda_l1=3\n",
      "[LightGBM] [Warning] feature_fraction is set=0.6842656791064706, colsample_bytree=1.0 will be ignored. Current value: feature_fraction=0.6842656791064706\n",
      "[LightGBM] [Warning] lambda_l2 is set=1, reg_lambda=0 will be ignored. Current value: lambda_l2=1\n"
     ]
    },
    {
     "name": "stderr",
     "output_type": "stream",
     "text": [
      "[I 2023-06-26 16:35:06,786] Trial 9 finished with value: 0.9685054911387633 and parameters: {'num_leaves': 78, 'max_depth': 8, 'n_estimators': 417, 'reg_alpha': 0, 'reg_lambda': 0, 'learning_rate': 0.0648243269672602, 'subsample': 0.5936826706685098, 'lambda_l1': 3, 'lambda_l2': 1, 'feature_fraction': 0.6842656791064706}. Best is trial 4 with value: 0.9685262674148607.\n"
     ]
    },
    {
     "name": "stdout",
     "output_type": "stream",
     "text": [
      "[LightGBM] [Warning] lambda_l1 is set=1, reg_alpha=0 will be ignored. Current value: lambda_l1=1\n",
      "[LightGBM] [Warning] feature_fraction is set=0.9809173564081451, colsample_bytree=1.0 will be ignored. Current value: feature_fraction=0.9809173564081451\n",
      "[LightGBM] [Warning] lambda_l2 is set=0, reg_lambda=0 will be ignored. Current value: lambda_l2=0\n"
     ]
    },
    {
     "name": "stderr",
     "output_type": "stream",
     "text": [
      "[I 2023-06-26 16:35:15,662] Trial 10 finished with value: 0.9670661913550844 and parameters: {'num_leaves': 73, 'max_depth': 10, 'n_estimators': 752, 'reg_alpha': 0, 'reg_lambda': 0, 'learning_rate': 0.029185571033120652, 'subsample': 0.7088632920630991, 'lambda_l1': 1, 'lambda_l2': 0, 'feature_fraction': 0.9809173564081451}. Best is trial 4 with value: 0.9685262674148607.\n"
     ]
    },
    {
     "name": "stdout",
     "output_type": "stream",
     "text": [
      "[LightGBM] [Warning] lambda_l1 is set=2, reg_alpha=0 will be ignored. Current value: lambda_l1=2\n",
      "[LightGBM] [Warning] feature_fraction is set=0.839885048133779, colsample_bytree=1.0 will be ignored. Current value: feature_fraction=0.839885048133779\n",
      "[LightGBM] [Warning] lambda_l2 is set=1, reg_lambda=0 will be ignored. Current value: lambda_l2=1\n"
     ]
    },
    {
     "name": "stderr",
     "output_type": "stream",
     "text": [
      "[I 2023-06-26 16:35:19,578] Trial 11 finished with value: 0.9680200394935302 and parameters: {'num_leaves': 76, 'max_depth': 8, 'n_estimators': 454, 'reg_alpha': 0, 'reg_lambda': 0, 'learning_rate': 0.09914346284127086, 'subsample': 0.7314833625975209, 'lambda_l1': 2, 'lambda_l2': 1, 'feature_fraction': 0.839885048133779}. Best is trial 4 with value: 0.9685262674148607.\n"
     ]
    },
    {
     "name": "stdout",
     "output_type": "stream",
     "text": [
      "[LightGBM] [Warning] lambda_l1 is set=3, reg_alpha=0 will be ignored. Current value: lambda_l1=3\n",
      "[LightGBM] [Warning] feature_fraction is set=0.8902823129234119, colsample_bytree=1.0 will be ignored. Current value: feature_fraction=0.8902823129234119\n",
      "[LightGBM] [Warning] lambda_l2 is set=0, reg_lambda=0 will be ignored. Current value: lambda_l2=0\n"
     ]
    },
    {
     "name": "stderr",
     "output_type": "stream",
     "text": [
      "[I 2023-06-26 16:35:24,096] Trial 12 finished with value: 0.9637179549198222 and parameters: {'num_leaves': 79, 'max_depth': 7, 'n_estimators': 95, 'reg_alpha': 0, 'reg_lambda': 0, 'learning_rate': 0.029966136557861976, 'subsample': 0.5005854387154276, 'lambda_l1': 3, 'lambda_l2': 0, 'feature_fraction': 0.8902823129234119}. Best is trial 4 with value: 0.9685262674148607.\n"
     ]
    },
    {
     "name": "stdout",
     "output_type": "stream",
     "text": [
      "[LightGBM] [Warning] lambda_l1 is set=1, reg_alpha=0 will be ignored. Current value: lambda_l1=1\n",
      "[LightGBM] [Warning] feature_fraction is set=0.5220878263992628, colsample_bytree=1.0 will be ignored. Current value: feature_fraction=0.5220878263992628\n",
      "[LightGBM] [Warning] lambda_l2 is set=2, reg_lambda=0 will be ignored. Current value: lambda_l2=2\n"
     ]
    },
    {
     "name": "stderr",
     "output_type": "stream",
     "text": [
      "[I 2023-06-26 16:35:27,454] Trial 13 finished with value: 0.9696641561482892 and parameters: {'num_leaves': 63, 'max_depth': 9, 'n_estimators': 450, 'reg_alpha': 0, 'reg_lambda': 0, 'learning_rate': 0.08953967599799513, 'subsample': 0.6846717797601702, 'lambda_l1': 1, 'lambda_l2': 2, 'feature_fraction': 0.5220878263992628}. Best is trial 13 with value: 0.9696641561482892.\n"
     ]
    },
    {
     "name": "stdout",
     "output_type": "stream",
     "text": [
      "[LightGBM] [Warning] lambda_l1 is set=1, reg_alpha=0 will be ignored. Current value: lambda_l1=1\n",
      "[LightGBM] [Warning] feature_fraction is set=0.749365806554507, colsample_bytree=1.0 will be ignored. Current value: feature_fraction=0.749365806554507\n",
      "[LightGBM] [Warning] lambda_l2 is set=2, reg_lambda=0 will be ignored. Current value: lambda_l2=2\n"
     ]
    },
    {
     "name": "stderr",
     "output_type": "stream",
     "text": [
      "[I 2023-06-26 16:35:30,655] Trial 14 finished with value: 0.9659479160464792 and parameters: {'num_leaves': 64, 'max_depth': 10, 'n_estimators': 732, 'reg_alpha': 0, 'reg_lambda': 0, 'learning_rate': 0.09758527706773004, 'subsample': 0.6908837251447083, 'lambda_l1': 1, 'lambda_l2': 2, 'feature_fraction': 0.749365806554507}. Best is trial 13 with value: 0.9696641561482892.\n"
     ]
    },
    {
     "name": "stdout",
     "output_type": "stream",
     "text": [
      "[LightGBM] [Warning] lambda_l1 is set=1, reg_alpha=0 will be ignored. Current value: lambda_l1=1\n",
      "[LightGBM] [Warning] feature_fraction is set=0.5554284781967171, colsample_bytree=1.0 will be ignored. Current value: feature_fraction=0.5554284781967171\n",
      "[LightGBM] [Warning] lambda_l2 is set=2, reg_lambda=0 will be ignored. Current value: lambda_l2=2\n"
     ]
    },
    {
     "name": "stderr",
     "output_type": "stream",
     "text": [
      "[I 2023-06-26 16:35:34,358] Trial 15 finished with value: 0.9685334770927603 and parameters: {'num_leaves': 61, 'max_depth': 6, 'n_estimators': 1375, 'reg_alpha': 0, 'reg_lambda': 0, 'learning_rate': 0.04162402425037612, 'subsample': 0.7775481516428421, 'lambda_l1': 1, 'lambda_l2': 2, 'feature_fraction': 0.5554284781967171}. Best is trial 13 with value: 0.9696641561482892.\n"
     ]
    },
    {
     "name": "stdout",
     "output_type": "stream",
     "text": [
      "[LightGBM] [Warning] lambda_l1 is set=1, reg_alpha=0 will be ignored. Current value: lambda_l1=1\n",
      "[LightGBM] [Warning] feature_fraction is set=0.510862048229996, colsample_bytree=1.0 will be ignored. Current value: feature_fraction=0.510862048229996\n",
      "[LightGBM] [Warning] lambda_l2 is set=2, reg_lambda=0 will be ignored. Current value: lambda_l2=2\n"
     ]
    },
    {
     "name": "stderr",
     "output_type": "stream",
     "text": [
      "[I 2023-06-26 16:35:40,699] Trial 16 finished with value: 0.970176120802572 and parameters: {'num_leaves': 61, 'max_depth': 9, 'n_estimators': 1496, 'reg_alpha': 0, 'reg_lambda': 0, 'learning_rate': 0.03923399127175255, 'subsample': 0.7678541169347383, 'lambda_l1': 1, 'lambda_l2': 2, 'feature_fraction': 0.510862048229996}. Best is trial 16 with value: 0.970176120802572.\n"
     ]
    },
    {
     "name": "stdout",
     "output_type": "stream",
     "text": [
      "[LightGBM] [Warning] lambda_l1 is set=2, reg_alpha=0 will be ignored. Current value: lambda_l1=2\n",
      "[LightGBM] [Warning] feature_fraction is set=0.5038649873900582, colsample_bytree=1.0 will be ignored. Current value: feature_fraction=0.5038649873900582\n",
      "[LightGBM] [Warning] lambda_l2 is set=2, reg_lambda=0 will be ignored. Current value: lambda_l2=2\n"
     ]
    },
    {
     "name": "stderr",
     "output_type": "stream",
     "text": [
      "[I 2023-06-26 16:35:52,635] Trial 17 finished with value: 0.9697173372132255 and parameters: {'num_leaves': 49, 'max_depth': 9, 'n_estimators': 1978, 'reg_alpha': 0, 'reg_lambda': 0, 'learning_rate': 0.022492575783123237, 'subsample': 0.7776585640138005, 'lambda_l1': 2, 'lambda_l2': 2, 'feature_fraction': 0.5038649873900582}. Best is trial 16 with value: 0.970176120802572.\n"
     ]
    },
    {
     "name": "stdout",
     "output_type": "stream",
     "text": [
      "[LightGBM] [Warning] lambda_l1 is set=2, reg_alpha=0 will be ignored. Current value: lambda_l1=2\n",
      "[LightGBM] [Warning] feature_fraction is set=0.5024883925271587, colsample_bytree=1.0 will be ignored. Current value: feature_fraction=0.5024883925271587\n",
      "[LightGBM] [Warning] lambda_l2 is set=2, reg_lambda=0 will be ignored. Current value: lambda_l2=2\n"
     ]
    },
    {
     "name": "stderr",
     "output_type": "stream",
     "text": [
      "[I 2023-06-26 16:36:06,301] Trial 18 finished with value: 0.969834552621656 and parameters: {'num_leaves': 43, 'max_depth': 9, 'n_estimators': 1943, 'reg_alpha': 0, 'reg_lambda': 0, 'learning_rate': 0.018797893840909158, 'subsample': 0.7728491495734892, 'lambda_l1': 2, 'lambda_l2': 2, 'feature_fraction': 0.5024883925271587}. Best is trial 16 with value: 0.970176120802572.\n"
     ]
    },
    {
     "name": "stdout",
     "output_type": "stream",
     "text": [
      "[LightGBM] [Warning] lambda_l1 is set=2, reg_alpha=0 will be ignored. Current value: lambda_l1=2\n",
      "[LightGBM] [Warning] feature_fraction is set=0.5877966665902037, colsample_bytree=1.0 will be ignored. Current value: feature_fraction=0.5877966665902037\n",
      "[LightGBM] [Warning] lambda_l2 is set=3, reg_lambda=0 will be ignored. Current value: lambda_l2=3\n"
     ]
    },
    {
     "name": "stderr",
     "output_type": "stream",
     "text": [
      "[I 2023-06-26 16:36:16,647] Trial 19 finished with value: 0.9675041211449156 and parameters: {'num_leaves': 32, 'max_depth': 9, 'n_estimators': 1697, 'reg_alpha': 0, 'reg_lambda': 0, 'learning_rate': 0.018457203700459317, 'subsample': 0.8168403256485186, 'lambda_l1': 2, 'lambda_l2': 3, 'feature_fraction': 0.5877966665902037}. Best is trial 16 with value: 0.970176120802572.\n"
     ]
    },
    {
     "name": "stdout",
     "output_type": "stream",
     "text": [
      "[LightGBM] [Warning] lambda_l1 is set=2, reg_alpha=0 will be ignored. Current value: lambda_l1=2\n",
      "[LightGBM] [Warning] feature_fraction is set=0.5012572911404616, colsample_bytree=1.0 will be ignored. Current value: feature_fraction=0.5012572911404616\n",
      "[LightGBM] [Warning] lambda_l2 is set=3, reg_lambda=0 will be ignored. Current value: lambda_l2=3\n"
     ]
    },
    {
     "name": "stderr",
     "output_type": "stream",
     "text": [
      "[I 2023-06-26 16:36:29,278] Trial 20 finished with value: 0.9692041321842503 and parameters: {'num_leaves': 39, 'max_depth': 8, 'n_estimators': 1684, 'reg_alpha': 0, 'reg_lambda': 0, 'learning_rate': 0.01754983440362458, 'subsample': 0.7545675452557041, 'lambda_l1': 2, 'lambda_l2': 3, 'feature_fraction': 0.5012572911404616}. Best is trial 16 with value: 0.970176120802572.\n"
     ]
    },
    {
     "name": "stdout",
     "output_type": "stream",
     "text": [
      "[LightGBM] [Warning] lambda_l1 is set=2, reg_alpha=0 will be ignored. Current value: lambda_l1=2\n",
      "[LightGBM] [Warning] feature_fraction is set=0.5003673844461529, colsample_bytree=1.0 will be ignored. Current value: feature_fraction=0.5003673844461529\n",
      "[LightGBM] [Warning] lambda_l2 is set=2, reg_lambda=0 will be ignored. Current value: lambda_l2=2\n"
     ]
    },
    {
     "name": "stderr",
     "output_type": "stream",
     "text": [
      "[I 2023-06-26 16:36:38,939] Trial 21 finished with value: 0.9695087992180678 and parameters: {'num_leaves': 51, 'max_depth': 9, 'n_estimators': 1999, 'reg_alpha': 0, 'reg_lambda': 0, 'learning_rate': 0.02398413758022447, 'subsample': 0.7851788055624307, 'lambda_l1': 2, 'lambda_l2': 2, 'feature_fraction': 0.5003673844461529}. Best is trial 16 with value: 0.970176120802572.\n"
     ]
    },
    {
     "name": "stdout",
     "output_type": "stream",
     "text": [
      "[LightGBM] [Warning] lambda_l1 is set=3, reg_alpha=0 will be ignored. Current value: lambda_l1=3\n",
      "[LightGBM] [Warning] feature_fraction is set=0.5482056260658841, colsample_bytree=1.0 will be ignored. Current value: feature_fraction=0.5482056260658841\n",
      "[LightGBM] [Warning] lambda_l2 is set=2, reg_lambda=0 will be ignored. Current value: lambda_l2=2\n"
     ]
    },
    {
     "name": "stderr",
     "output_type": "stream",
     "text": [
      "[I 2023-06-26 16:36:44,025] Trial 22 finished with value: 0.9687585275760102 and parameters: {'num_leaves': 51, 'max_depth': 10, 'n_estimators': 1478, 'reg_alpha': 0, 'reg_lambda': 0, 'learning_rate': 0.04525895415997396, 'subsample': 0.8174468423981717, 'lambda_l1': 3, 'lambda_l2': 2, 'feature_fraction': 0.5482056260658841}. Best is trial 16 with value: 0.970176120802572.\n"
     ]
    },
    {
     "name": "stdout",
     "output_type": "stream",
     "text": [
      "[LightGBM] [Warning] lambda_l1 is set=1, reg_alpha=0 will be ignored. Current value: lambda_l1=1\n",
      "[LightGBM] [Warning] feature_fraction is set=0.5367205454619361, colsample_bytree=1.0 will be ignored. Current value: feature_fraction=0.5367205454619361\n",
      "[LightGBM] [Warning] lambda_l2 is set=1, reg_lambda=0 will be ignored. Current value: lambda_l2=1\n"
     ]
    },
    {
     "name": "stderr",
     "output_type": "stream",
     "text": [
      "[I 2023-06-26 16:36:52,027] Trial 23 finished with value: 0.969472673305152 and parameters: {'num_leaves': 39, 'max_depth': 9, 'n_estimators': 1875, 'reg_alpha': 0, 'reg_lambda': 0, 'learning_rate': 0.021177059526408224, 'subsample': 0.7502175723425696, 'lambda_l1': 1, 'lambda_l2': 1, 'feature_fraction': 0.5367205454619361}. Best is trial 16 with value: 0.970176120802572.\n"
     ]
    },
    {
     "name": "stdout",
     "output_type": "stream",
     "text": [
      "[LightGBM] [Warning] lambda_l1 is set=2, reg_alpha=0 will be ignored. Current value: lambda_l1=2\n",
      "[LightGBM] [Warning] feature_fraction is set=0.5969251834505905, colsample_bytree=1.0 will be ignored. Current value: feature_fraction=0.5969251834505905\n",
      "[LightGBM] [Warning] lambda_l2 is set=2, reg_lambda=0 will be ignored. Current value: lambda_l2=2\n"
     ]
    },
    {
     "name": "stderr",
     "output_type": "stream",
     "text": [
      "[I 2023-06-26 16:36:56,908] Trial 24 finished with value: 0.9677428157497816 and parameters: {'num_leaves': 46, 'max_depth': 7, 'n_estimators': 1332, 'reg_alpha': 0, 'reg_lambda': 0, 'learning_rate': 0.04584669912259791, 'subsample': 0.8824918714275543, 'lambda_l1': 2, 'lambda_l2': 2, 'feature_fraction': 0.5969251834505905}. Best is trial 16 with value: 0.970176120802572.\n"
     ]
    },
    {
     "name": "stdout",
     "output_type": "stream",
     "text": [
      "[LightGBM] [Warning] lambda_l1 is set=3, reg_alpha=0 will be ignored. Current value: lambda_l1=3\n",
      "[LightGBM] [Warning] feature_fraction is set=0.5050162651722914, colsample_bytree=1.0 will be ignored. Current value: feature_fraction=0.5050162651722914\n",
      "[LightGBM] [Warning] lambda_l2 is set=2, reg_lambda=0 will be ignored. Current value: lambda_l2=2\n"
     ]
    },
    {
     "name": "stderr",
     "output_type": "stream",
     "text": [
      "[I 2023-06-26 16:37:09,567] Trial 25 finished with value: 0.9686495296499167 and parameters: {'num_leaves': 56, 'max_depth': 8, 'n_estimators': 1774, 'reg_alpha': 0, 'reg_lambda': 0, 'learning_rate': 0.014988317114718045, 'subsample': 0.7316730570205456, 'lambda_l1': 3, 'lambda_l2': 2, 'feature_fraction': 0.5050162651722914}. Best is trial 16 with value: 0.970176120802572.\n"
     ]
    },
    {
     "name": "stdout",
     "output_type": "stream",
     "text": [
      "[LightGBM] [Warning] lambda_l1 is set=1, reg_alpha=0 will be ignored. Current value: lambda_l1=1\n",
      "[LightGBM] [Warning] feature_fraction is set=0.5687941884905224, colsample_bytree=1.0 will be ignored. Current value: feature_fraction=0.5687941884905224\n",
      "[LightGBM] [Warning] lambda_l2 is set=3, reg_lambda=0 will be ignored. Current value: lambda_l2=3\n"
     ]
    },
    {
     "name": "stderr",
     "output_type": "stream",
     "text": [
      "[I 2023-06-26 16:37:19,280] Trial 26 finished with value: 0.9686999198717947 and parameters: {'num_leaves': 71, 'max_depth': 10, 'n_estimators': 1931, 'reg_alpha': 0, 'reg_lambda': 0, 'learning_rate': 0.02640629383369915, 'subsample': 0.8123943923027036, 'lambda_l1': 1, 'lambda_l2': 3, 'feature_fraction': 0.5687941884905224}. Best is trial 16 with value: 0.970176120802572.\n"
     ]
    },
    {
     "name": "stdout",
     "output_type": "stream",
     "text": [
      "[LightGBM] [Warning] lambda_l1 is set=2, reg_alpha=0 will be ignored. Current value: lambda_l1=2\n",
      "[LightGBM] [Warning] feature_fraction is set=0.5507182993165575, colsample_bytree=1.0 will be ignored. Current value: feature_fraction=0.5507182993165575\n",
      "[LightGBM] [Warning] lambda_l2 is set=1, reg_lambda=0 will be ignored. Current value: lambda_l2=1\n"
     ]
    },
    {
     "name": "stderr",
     "output_type": "stream",
     "text": [
      "[I 2023-06-26 16:37:34,848] Trial 27 finished with value: 0.9682205925766056 and parameters: {'num_leaves': 34, 'max_depth': 5, 'n_estimators': 1580, 'reg_alpha': 0, 'reg_lambda': 0, 'learning_rate': 0.00943581760177875, 'subsample': 0.6596575530318654, 'lambda_l1': 2, 'lambda_l2': 1, 'feature_fraction': 0.5507182993165575}. Best is trial 16 with value: 0.970176120802572.\n"
     ]
    },
    {
     "name": "stdout",
     "output_type": "stream",
     "text": [
      "[LightGBM] [Warning] lambda_l1 is set=2, reg_alpha=0 will be ignored. Current value: lambda_l1=2\n",
      "[LightGBM] [Warning] feature_fraction is set=0.6059507083610602, colsample_bytree=1.0 will be ignored. Current value: feature_fraction=0.6059507083610602\n",
      "[LightGBM] [Warning] lambda_l2 is set=2, reg_lambda=0 will be ignored. Current value: lambda_l2=2\n"
     ]
    },
    {
     "name": "stderr",
     "output_type": "stream",
     "text": [
      "[I 2023-06-26 16:37:48,186] Trial 28 finished with value: 0.9687568220608082 and parameters: {'num_leaves': 68, 'max_depth': 9, 'n_estimators': 1796, 'reg_alpha': 0, 'reg_lambda': 0, 'learning_rate': 0.020832669541549286, 'subsample': 0.7184828226909189, 'lambda_l1': 2, 'lambda_l2': 2, 'feature_fraction': 0.6059507083610602}. Best is trial 16 with value: 0.970176120802572.\n"
     ]
    },
    {
     "name": "stdout",
     "output_type": "stream",
     "text": [
      "[LightGBM] [Warning] lambda_l1 is set=0, reg_alpha=0 will be ignored. Current value: lambda_l1=0\n",
      "[LightGBM] [Warning] feature_fraction is set=0.532689464143632, colsample_bytree=1.0 will be ignored. Current value: feature_fraction=0.532689464143632\n",
      "[LightGBM] [Warning] lambda_l2 is set=1, reg_lambda=0 will be ignored. Current value: lambda_l2=1\n"
     ]
    },
    {
     "name": "stderr",
     "output_type": "stream",
     "text": [
      "[I 2023-06-26 16:38:11,019] Trial 29 finished with value: 0.9690055171866319 and parameters: {'num_leaves': 46, 'max_depth': 7, 'n_estimators': 1536, 'reg_alpha': 0, 'reg_lambda': 0, 'learning_rate': 0.00576029959619465, 'subsample': 0.6500503128947913, 'lambda_l1': 0, 'lambda_l2': 1, 'feature_fraction': 0.532689464143632}. Best is trial 16 with value: 0.970176120802572.\n"
     ]
    }
   ],
   "source": [
    "def objective(trial):\n",
    "    n_leaves = trial.suggest_int('num_leaves', 25,100)\n",
    "    max_depth = trial.suggest_int(\"max_depth\", 1,10)\n",
    "    n_estimators = trial.suggest_int(\"n_estimators\", 10,2000)\n",
    "    r_alpha = trial.suggest_int(\"reg_alpha\", 0.0, 0.1)\n",
    "    r_lambda = trial.suggest_int(\"reg_lambda\", 0.0, 0.1)\n",
    "    l_rate = trial.suggest_loguniform('learning_rate', 0.001, 0.1)\n",
    "    subsample =  trial.suggest_uniform('subsample', 0.5, 1.0)\n",
    "    lambda_l1 = trial.suggest_int(\"lambda_l1\", 0.0, 4)\n",
    "    lambda_l2 = trial.suggest_int(\"lambda_l2\", 0.0, 4)\n",
    "    feature_fraction =  trial.suggest_uniform('feature_fraction', 0.5, 1.0)\n",
    "\n",
    "    lgb = LGBMClassifier(\n",
    "            num_leaves =n_leaves,\n",
    "            max_depth=max_depth, \n",
    "            n_estimators=n_estimators,\n",
    "            reg_alpha = r_alpha,\n",
    "            reg_lambda = r_lambda,\n",
    "            learning_rate = l_rate,\n",
    "            subsample = subsample,\n",
    "            lambda_l1 = lambda_l1,\n",
    "            lambda_l2 = lambda_l2,\n",
    "            feature_fraction = feature_fraction\n",
    "        )\n",
    "    \n",
    "    lgb.fit(x_train, y_train, eval_set=[(x_val, y_val)], early_stopping_rounds=20, verbose=False)\n",
    "\n",
    "    y_pred_proba = lgb.predict_proba(x_val)[:, 1]\n",
    "    roc_auc = roc_auc_score(y_val, y_pred_proba)\n",
    "    return roc_auc\n",
    "study = optuna.create_study(direction=\"maximize\")\n",
    "study.optimize(objective, n_trials=30)"
   ]
  },
  {
   "cell_type": "code",
   "execution_count": 18,
   "id": "5a6c7655",
   "metadata": {
    "execution": {
     "iopub.execute_input": "2023-06-26T16:38:11.053382Z",
     "iopub.status.busy": "2023-06-26T16:38:11.052746Z",
     "iopub.status.idle": "2023-06-26T16:38:11.057641Z",
     "shell.execute_reply": "2023-06-26T16:38:11.057065Z"
    },
    "papermill": {
     "duration": 0.021172,
     "end_time": "2023-06-26T16:38:11.059257",
     "exception": false,
     "start_time": "2023-06-26T16:38:11.038085",
     "status": "completed"
    },
    "tags": []
   },
   "outputs": [
    {
     "name": "stdout",
     "output_type": "stream",
     "text": [
      "ROC_AUC Score: 0.970176120802572\n",
      "Best hyperparameters: {'num_leaves': 61, 'max_depth': 9, 'n_estimators': 1496, 'reg_alpha': 0, 'reg_lambda': 0, 'learning_rate': 0.03923399127175255, 'subsample': 0.7678541169347383, 'lambda_l1': 1, 'lambda_l2': 2, 'feature_fraction': 0.510862048229996}\n"
     ]
    }
   ],
   "source": [
    "trial = study.best_trial\n",
    "print('ROC_AUC Score: {}'.format(trial.value))\n",
    "print(\"Best hyperparameters: {}\".format(trial.params))"
   ]
  },
  {
   "cell_type": "code",
   "execution_count": 19,
   "id": "3093872e",
   "metadata": {
    "execution": {
     "iopub.execute_input": "2023-06-26T16:38:11.086716Z",
     "iopub.status.busy": "2023-06-26T16:38:11.086062Z",
     "iopub.status.idle": "2023-06-26T16:38:12.044720Z",
     "shell.execute_reply": "2023-06-26T16:38:12.042528Z"
    },
    "papermill": {
     "duration": 0.975551,
     "end_time": "2023-06-26T16:38:12.047709",
     "exception": false,
     "start_time": "2023-06-26T16:38:11.072158",
     "status": "completed"
    },
    "tags": []
   },
   "outputs": [
    {
     "data": {
      "text/html": [
       "        <script type=\"text/javascript\">\n",
       "        window.PlotlyConfig = {MathJaxConfig: 'local'};\n",
       "        if (window.MathJax && window.MathJax.Hub && window.MathJax.Hub.Config) {window.MathJax.Hub.Config({SVG: {font: \"STIX-Web\"}});}\n",
       "        if (typeof require !== 'undefined') {\n",
       "        require.undef(\"plotly\");\n",
       "        requirejs.config({\n",
       "            paths: {\n",
       "                'plotly': ['https://cdn.plot.ly/plotly-2.20.0.min']\n",
       "            }\n",
       "        });\n",
       "        require(['plotly'], function(Plotly) {\n",
       "            window._Plotly = Plotly;\n",
       "        });\n",
       "        }\n",
       "        </script>\n",
       "        "
      ]
     },
     "metadata": {},
     "output_type": "display_data"
    },
    {
     "data": {
      "text/html": [
       "<div>                            <div id=\"a98a6bec-1bf4-4c05-a883-28e4b3c1c225\" class=\"plotly-graph-div\" style=\"height:525px; width:100%;\"></div>            <script type=\"text/javascript\">                require([\"plotly\"], function(Plotly) {                    window.PLOTLYENV=window.PLOTLYENV || {};                                    if (document.getElementById(\"a98a6bec-1bf4-4c05-a883-28e4b3c1c225\")) {                    Plotly.newPlot(                        \"a98a6bec-1bf4-4c05-a883-28e4b3c1c225\",                        [{\"mode\":\"markers\",\"name\":\"Objective Value\",\"x\":[0,1,2,3,4,5,6,7,8,9,10,11,12,13,14,15,16,17,18,19,20,21,22,23,24,25,26,27,28,29],\"y\":[0.9673831846124077,0.9674234192664921,0.9613705458144797,0.9620532945592205,0.9685262674148607,0.9669254088274986,0.9644551251041915,0.9574512718802097,0.9582616241714297,0.9685054911387633,0.9670661913550844,0.9680200394935302,0.9637179549198222,0.9696641561482892,0.9659479160464792,0.9685334770927603,0.970176120802572,0.9697173372132255,0.969834552621656,0.9675041211449156,0.9692041321842503,0.9695087992180678,0.9687585275760102,0.969472673305152,0.9677428157497816,0.9686495296499167,0.9686999198717947,0.9682205925766056,0.9687568220608082,0.9690055171866319],\"type\":\"scatter\"},{\"name\":\"Best Value\",\"x\":[0,1,2,3,4,5,6,7,8,9,10,11,12,13,14,15,16,17,18,19,20,21,22,23,24,25,26,27,28,29],\"y\":[0.9673831846124077,0.9674234192664921,0.9674234192664921,0.9674234192664921,0.9685262674148607,0.9685262674148607,0.9685262674148607,0.9685262674148607,0.9685262674148607,0.9685262674148607,0.9685262674148607,0.9685262674148607,0.9685262674148607,0.9696641561482892,0.9696641561482892,0.9696641561482892,0.970176120802572,0.970176120802572,0.970176120802572,0.970176120802572,0.970176120802572,0.970176120802572,0.970176120802572,0.970176120802572,0.970176120802572,0.970176120802572,0.970176120802572,0.970176120802572,0.970176120802572,0.970176120802572],\"type\":\"scatter\"}],                        {\"title\":{\"text\":\"Optimization History Plot\"},\"xaxis\":{\"title\":{\"text\":\"Trial\"}},\"yaxis\":{\"title\":{\"text\":\"Objective Value\"}},\"template\":{\"data\":{\"histogram2dcontour\":[{\"type\":\"histogram2dcontour\",\"colorbar\":{\"outlinewidth\":0,\"ticks\":\"\"},\"colorscale\":[[0.0,\"#0d0887\"],[0.1111111111111111,\"#46039f\"],[0.2222222222222222,\"#7201a8\"],[0.3333333333333333,\"#9c179e\"],[0.4444444444444444,\"#bd3786\"],[0.5555555555555556,\"#d8576b\"],[0.6666666666666666,\"#ed7953\"],[0.7777777777777778,\"#fb9f3a\"],[0.8888888888888888,\"#fdca26\"],[1.0,\"#f0f921\"]]}],\"choropleth\":[{\"type\":\"choropleth\",\"colorbar\":{\"outlinewidth\":0,\"ticks\":\"\"}}],\"histogram2d\":[{\"type\":\"histogram2d\",\"colorbar\":{\"outlinewidth\":0,\"ticks\":\"\"},\"colorscale\":[[0.0,\"#0d0887\"],[0.1111111111111111,\"#46039f\"],[0.2222222222222222,\"#7201a8\"],[0.3333333333333333,\"#9c179e\"],[0.4444444444444444,\"#bd3786\"],[0.5555555555555556,\"#d8576b\"],[0.6666666666666666,\"#ed7953\"],[0.7777777777777778,\"#fb9f3a\"],[0.8888888888888888,\"#fdca26\"],[1.0,\"#f0f921\"]]}],\"heatmap\":[{\"type\":\"heatmap\",\"colorbar\":{\"outlinewidth\":0,\"ticks\":\"\"},\"colorscale\":[[0.0,\"#0d0887\"],[0.1111111111111111,\"#46039f\"],[0.2222222222222222,\"#7201a8\"],[0.3333333333333333,\"#9c179e\"],[0.4444444444444444,\"#bd3786\"],[0.5555555555555556,\"#d8576b\"],[0.6666666666666666,\"#ed7953\"],[0.7777777777777778,\"#fb9f3a\"],[0.8888888888888888,\"#fdca26\"],[1.0,\"#f0f921\"]]}],\"heatmapgl\":[{\"type\":\"heatmapgl\",\"colorbar\":{\"outlinewidth\":0,\"ticks\":\"\"},\"colorscale\":[[0.0,\"#0d0887\"],[0.1111111111111111,\"#46039f\"],[0.2222222222222222,\"#7201a8\"],[0.3333333333333333,\"#9c179e\"],[0.4444444444444444,\"#bd3786\"],[0.5555555555555556,\"#d8576b\"],[0.6666666666666666,\"#ed7953\"],[0.7777777777777778,\"#fb9f3a\"],[0.8888888888888888,\"#fdca26\"],[1.0,\"#f0f921\"]]}],\"contourcarpet\":[{\"type\":\"contourcarpet\",\"colorbar\":{\"outlinewidth\":0,\"ticks\":\"\"}}],\"contour\":[{\"type\":\"contour\",\"colorbar\":{\"outlinewidth\":0,\"ticks\":\"\"},\"colorscale\":[[0.0,\"#0d0887\"],[0.1111111111111111,\"#46039f\"],[0.2222222222222222,\"#7201a8\"],[0.3333333333333333,\"#9c179e\"],[0.4444444444444444,\"#bd3786\"],[0.5555555555555556,\"#d8576b\"],[0.6666666666666666,\"#ed7953\"],[0.7777777777777778,\"#fb9f3a\"],[0.8888888888888888,\"#fdca26\"],[1.0,\"#f0f921\"]]}],\"surface\":[{\"type\":\"surface\",\"colorbar\":{\"outlinewidth\":0,\"ticks\":\"\"},\"colorscale\":[[0.0,\"#0d0887\"],[0.1111111111111111,\"#46039f\"],[0.2222222222222222,\"#7201a8\"],[0.3333333333333333,\"#9c179e\"],[0.4444444444444444,\"#bd3786\"],[0.5555555555555556,\"#d8576b\"],[0.6666666666666666,\"#ed7953\"],[0.7777777777777778,\"#fb9f3a\"],[0.8888888888888888,\"#fdca26\"],[1.0,\"#f0f921\"]]}],\"mesh3d\":[{\"type\":\"mesh3d\",\"colorbar\":{\"outlinewidth\":0,\"ticks\":\"\"}}],\"scatter\":[{\"fillpattern\":{\"fillmode\":\"overlay\",\"size\":10,\"solidity\":0.2},\"type\":\"scatter\"}],\"parcoords\":[{\"type\":\"parcoords\",\"line\":{\"colorbar\":{\"outlinewidth\":0,\"ticks\":\"\"}}}],\"scatterpolargl\":[{\"type\":\"scatterpolargl\",\"marker\":{\"colorbar\":{\"outlinewidth\":0,\"ticks\":\"\"}}}],\"bar\":[{\"error_x\":{\"color\":\"#2a3f5f\"},\"error_y\":{\"color\":\"#2a3f5f\"},\"marker\":{\"line\":{\"color\":\"#E5ECF6\",\"width\":0.5},\"pattern\":{\"fillmode\":\"overlay\",\"size\":10,\"solidity\":0.2}},\"type\":\"bar\"}],\"scattergeo\":[{\"type\":\"scattergeo\",\"marker\":{\"colorbar\":{\"outlinewidth\":0,\"ticks\":\"\"}}}],\"scatterpolar\":[{\"type\":\"scatterpolar\",\"marker\":{\"colorbar\":{\"outlinewidth\":0,\"ticks\":\"\"}}}],\"histogram\":[{\"marker\":{\"pattern\":{\"fillmode\":\"overlay\",\"size\":10,\"solidity\":0.2}},\"type\":\"histogram\"}],\"scattergl\":[{\"type\":\"scattergl\",\"marker\":{\"colorbar\":{\"outlinewidth\":0,\"ticks\":\"\"}}}],\"scatter3d\":[{\"type\":\"scatter3d\",\"line\":{\"colorbar\":{\"outlinewidth\":0,\"ticks\":\"\"}},\"marker\":{\"colorbar\":{\"outlinewidth\":0,\"ticks\":\"\"}}}],\"scattermapbox\":[{\"type\":\"scattermapbox\",\"marker\":{\"colorbar\":{\"outlinewidth\":0,\"ticks\":\"\"}}}],\"scatterternary\":[{\"type\":\"scatterternary\",\"marker\":{\"colorbar\":{\"outlinewidth\":0,\"ticks\":\"\"}}}],\"scattercarpet\":[{\"type\":\"scattercarpet\",\"marker\":{\"colorbar\":{\"outlinewidth\":0,\"ticks\":\"\"}}}],\"carpet\":[{\"aaxis\":{\"endlinecolor\":\"#2a3f5f\",\"gridcolor\":\"white\",\"linecolor\":\"white\",\"minorgridcolor\":\"white\",\"startlinecolor\":\"#2a3f5f\"},\"baxis\":{\"endlinecolor\":\"#2a3f5f\",\"gridcolor\":\"white\",\"linecolor\":\"white\",\"minorgridcolor\":\"white\",\"startlinecolor\":\"#2a3f5f\"},\"type\":\"carpet\"}],\"table\":[{\"cells\":{\"fill\":{\"color\":\"#EBF0F8\"},\"line\":{\"color\":\"white\"}},\"header\":{\"fill\":{\"color\":\"#C8D4E3\"},\"line\":{\"color\":\"white\"}},\"type\":\"table\"}],\"barpolar\":[{\"marker\":{\"line\":{\"color\":\"#E5ECF6\",\"width\":0.5},\"pattern\":{\"fillmode\":\"overlay\",\"size\":10,\"solidity\":0.2}},\"type\":\"barpolar\"}],\"pie\":[{\"automargin\":true,\"type\":\"pie\"}]},\"layout\":{\"autotypenumbers\":\"strict\",\"colorway\":[\"#636efa\",\"#EF553B\",\"#00cc96\",\"#ab63fa\",\"#FFA15A\",\"#19d3f3\",\"#FF6692\",\"#B6E880\",\"#FF97FF\",\"#FECB52\"],\"font\":{\"color\":\"#2a3f5f\"},\"hovermode\":\"closest\",\"hoverlabel\":{\"align\":\"left\"},\"paper_bgcolor\":\"white\",\"plot_bgcolor\":\"#E5ECF6\",\"polar\":{\"bgcolor\":\"#E5ECF6\",\"angularaxis\":{\"gridcolor\":\"white\",\"linecolor\":\"white\",\"ticks\":\"\"},\"radialaxis\":{\"gridcolor\":\"white\",\"linecolor\":\"white\",\"ticks\":\"\"}},\"ternary\":{\"bgcolor\":\"#E5ECF6\",\"aaxis\":{\"gridcolor\":\"white\",\"linecolor\":\"white\",\"ticks\":\"\"},\"baxis\":{\"gridcolor\":\"white\",\"linecolor\":\"white\",\"ticks\":\"\"},\"caxis\":{\"gridcolor\":\"white\",\"linecolor\":\"white\",\"ticks\":\"\"}},\"coloraxis\":{\"colorbar\":{\"outlinewidth\":0,\"ticks\":\"\"}},\"colorscale\":{\"sequential\":[[0.0,\"#0d0887\"],[0.1111111111111111,\"#46039f\"],[0.2222222222222222,\"#7201a8\"],[0.3333333333333333,\"#9c179e\"],[0.4444444444444444,\"#bd3786\"],[0.5555555555555556,\"#d8576b\"],[0.6666666666666666,\"#ed7953\"],[0.7777777777777778,\"#fb9f3a\"],[0.8888888888888888,\"#fdca26\"],[1.0,\"#f0f921\"]],\"sequentialminus\":[[0.0,\"#0d0887\"],[0.1111111111111111,\"#46039f\"],[0.2222222222222222,\"#7201a8\"],[0.3333333333333333,\"#9c179e\"],[0.4444444444444444,\"#bd3786\"],[0.5555555555555556,\"#d8576b\"],[0.6666666666666666,\"#ed7953\"],[0.7777777777777778,\"#fb9f3a\"],[0.8888888888888888,\"#fdca26\"],[1.0,\"#f0f921\"]],\"diverging\":[[0,\"#8e0152\"],[0.1,\"#c51b7d\"],[0.2,\"#de77ae\"],[0.3,\"#f1b6da\"],[0.4,\"#fde0ef\"],[0.5,\"#f7f7f7\"],[0.6,\"#e6f5d0\"],[0.7,\"#b8e186\"],[0.8,\"#7fbc41\"],[0.9,\"#4d9221\"],[1,\"#276419\"]]},\"xaxis\":{\"gridcolor\":\"white\",\"linecolor\":\"white\",\"ticks\":\"\",\"title\":{\"standoff\":15},\"zerolinecolor\":\"white\",\"automargin\":true,\"zerolinewidth\":2},\"yaxis\":{\"gridcolor\":\"white\",\"linecolor\":\"white\",\"ticks\":\"\",\"title\":{\"standoff\":15},\"zerolinecolor\":\"white\",\"automargin\":true,\"zerolinewidth\":2},\"scene\":{\"xaxis\":{\"backgroundcolor\":\"#E5ECF6\",\"gridcolor\":\"white\",\"linecolor\":\"white\",\"showbackground\":true,\"ticks\":\"\",\"zerolinecolor\":\"white\",\"gridwidth\":2},\"yaxis\":{\"backgroundcolor\":\"#E5ECF6\",\"gridcolor\":\"white\",\"linecolor\":\"white\",\"showbackground\":true,\"ticks\":\"\",\"zerolinecolor\":\"white\",\"gridwidth\":2},\"zaxis\":{\"backgroundcolor\":\"#E5ECF6\",\"gridcolor\":\"white\",\"linecolor\":\"white\",\"showbackground\":true,\"ticks\":\"\",\"zerolinecolor\":\"white\",\"gridwidth\":2}},\"shapedefaults\":{\"line\":{\"color\":\"#2a3f5f\"}},\"annotationdefaults\":{\"arrowcolor\":\"#2a3f5f\",\"arrowhead\":0,\"arrowwidth\":1},\"geo\":{\"bgcolor\":\"white\",\"landcolor\":\"#E5ECF6\",\"subunitcolor\":\"white\",\"showland\":true,\"showlakes\":true,\"lakecolor\":\"white\"},\"title\":{\"x\":0.05},\"mapbox\":{\"style\":\"light\"}}}},                        {\"responsive\": true}                    ).then(function(){\n",
       "                            \n",
       "var gd = document.getElementById('a98a6bec-1bf4-4c05-a883-28e4b3c1c225');\n",
       "var x = new MutationObserver(function (mutations, observer) {{\n",
       "        var display = window.getComputedStyle(gd).display;\n",
       "        if (!display || display === 'none') {{\n",
       "            console.log([gd, 'removed!']);\n",
       "            Plotly.purge(gd);\n",
       "            observer.disconnect();\n",
       "        }}\n",
       "}});\n",
       "\n",
       "// Listen for the removal of the full notebook cells\n",
       "var notebookContainer = gd.closest('#notebook-container');\n",
       "if (notebookContainer) {{\n",
       "    x.observe(notebookContainer, {childList: true});\n",
       "}}\n",
       "\n",
       "// Listen for the clearing of the current output cell\n",
       "var outputEl = gd.closest('.output');\n",
       "if (outputEl) {{\n",
       "    x.observe(outputEl, {childList: true});\n",
       "}}\n",
       "\n",
       "                        })                };                });            </script>        </div>"
      ]
     },
     "metadata": {},
     "output_type": "display_data"
    }
   ],
   "source": [
    "optuna.visualization.plot_optimization_history(study)"
   ]
  },
  {
   "cell_type": "markdown",
   "id": "ec61d0a3",
   "metadata": {
    "papermill": {
     "duration": 0.012755,
     "end_time": "2023-06-26T16:38:12.074090",
     "exception": false,
     "start_time": "2023-06-26T16:38:12.061335",
     "status": "completed"
    },
    "tags": []
   },
   "source": [
    "# 8. Model Training"
   ]
  },
  {
   "cell_type": "code",
   "execution_count": 20,
   "id": "86ebfbae",
   "metadata": {
    "execution": {
     "iopub.execute_input": "2023-06-26T16:38:12.102668Z",
     "iopub.status.busy": "2023-06-26T16:38:12.102273Z",
     "iopub.status.idle": "2023-06-26T16:38:55.937969Z",
     "shell.execute_reply": "2023-06-26T16:38:55.936784Z"
    },
    "papermill": {
     "duration": 43.862483,
     "end_time": "2023-06-26T16:38:55.949944",
     "exception": false,
     "start_time": "2023-06-26T16:38:12.087461",
     "status": "completed"
    },
    "tags": []
   },
   "outputs": [
    {
     "name": "stdout",
     "output_type": "stream",
     "text": [
      "[LightGBM] [Warning] lambda_l1 is set=1, reg_alpha=0 will be ignored. Current value: lambda_l1=1\n",
      "[LightGBM] [Warning] feature_fraction is set=0.510862048229996, colsample_bytree=1.0 will be ignored. Current value: feature_fraction=0.510862048229996\n",
      "[LightGBM] [Warning] lambda_l2 is set=2, reg_lambda=0 will be ignored. Current value: lambda_l2=2\n"
     ]
    },
    {
     "data": {
      "text/html": [
       "<style>#sk-container-id-1 {color: black;background-color: white;}#sk-container-id-1 pre{padding: 0;}#sk-container-id-1 div.sk-toggleable {background-color: white;}#sk-container-id-1 label.sk-toggleable__label {cursor: pointer;display: block;width: 100%;margin-bottom: 0;padding: 0.3em;box-sizing: border-box;text-align: center;}#sk-container-id-1 label.sk-toggleable__label-arrow:before {content: \"▸\";float: left;margin-right: 0.25em;color: #696969;}#sk-container-id-1 label.sk-toggleable__label-arrow:hover:before {color: black;}#sk-container-id-1 div.sk-estimator:hover label.sk-toggleable__label-arrow:before {color: black;}#sk-container-id-1 div.sk-toggleable__content {max-height: 0;max-width: 0;overflow: hidden;text-align: left;background-color: #f0f8ff;}#sk-container-id-1 div.sk-toggleable__content pre {margin: 0.2em;color: black;border-radius: 0.25em;background-color: #f0f8ff;}#sk-container-id-1 input.sk-toggleable__control:checked~div.sk-toggleable__content {max-height: 200px;max-width: 100%;overflow: auto;}#sk-container-id-1 input.sk-toggleable__control:checked~label.sk-toggleable__label-arrow:before {content: \"▾\";}#sk-container-id-1 div.sk-estimator input.sk-toggleable__control:checked~label.sk-toggleable__label {background-color: #d4ebff;}#sk-container-id-1 div.sk-label input.sk-toggleable__control:checked~label.sk-toggleable__label {background-color: #d4ebff;}#sk-container-id-1 input.sk-hidden--visually {border: 0;clip: rect(1px 1px 1px 1px);clip: rect(1px, 1px, 1px, 1px);height: 1px;margin: -1px;overflow: hidden;padding: 0;position: absolute;width: 1px;}#sk-container-id-1 div.sk-estimator {font-family: monospace;background-color: #f0f8ff;border: 1px dotted black;border-radius: 0.25em;box-sizing: border-box;margin-bottom: 0.5em;}#sk-container-id-1 div.sk-estimator:hover {background-color: #d4ebff;}#sk-container-id-1 div.sk-parallel-item::after {content: \"\";width: 100%;border-bottom: 1px solid gray;flex-grow: 1;}#sk-container-id-1 div.sk-label:hover label.sk-toggleable__label {background-color: #d4ebff;}#sk-container-id-1 div.sk-serial::before {content: \"\";position: absolute;border-left: 1px solid gray;box-sizing: border-box;top: 0;bottom: 0;left: 50%;z-index: 0;}#sk-container-id-1 div.sk-serial {display: flex;flex-direction: column;align-items: center;background-color: white;padding-right: 0.2em;padding-left: 0.2em;position: relative;}#sk-container-id-1 div.sk-item {position: relative;z-index: 1;}#sk-container-id-1 div.sk-parallel {display: flex;align-items: stretch;justify-content: center;background-color: white;position: relative;}#sk-container-id-1 div.sk-item::before, #sk-container-id-1 div.sk-parallel-item::before {content: \"\";position: absolute;border-left: 1px solid gray;box-sizing: border-box;top: 0;bottom: 0;left: 50%;z-index: -1;}#sk-container-id-1 div.sk-parallel-item {display: flex;flex-direction: column;z-index: 1;position: relative;background-color: white;}#sk-container-id-1 div.sk-parallel-item:first-child::after {align-self: flex-end;width: 50%;}#sk-container-id-1 div.sk-parallel-item:last-child::after {align-self: flex-start;width: 50%;}#sk-container-id-1 div.sk-parallel-item:only-child::after {width: 0;}#sk-container-id-1 div.sk-dashed-wrapped {border: 1px dashed gray;margin: 0 0.4em 0.5em 0.4em;box-sizing: border-box;padding-bottom: 0.4em;background-color: white;}#sk-container-id-1 div.sk-label label {font-family: monospace;font-weight: bold;display: inline-block;line-height: 1.2em;}#sk-container-id-1 div.sk-label-container {text-align: center;}#sk-container-id-1 div.sk-container {/* jupyter's `normalize.less` sets `[hidden] { display: none; }` but bootstrap.min.css set `[hidden] { display: none !important; }` so we also need the `!important` here to be able to override the default hidden behavior on the sphinx rendered scikit-learn.org. See: https://github.com/scikit-learn/scikit-learn/issues/21755 */display: inline-block !important;position: relative;}#sk-container-id-1 div.sk-text-repr-fallback {display: none;}</style><div id=\"sk-container-id-1\" class=\"sk-top-container\"><div class=\"sk-text-repr-fallback\"><pre>LGBMClassifier(feature_fraction=0.510862048229996, lambda_l1=1, lambda_l2=2,\n",
       "               learning_rate=0.03923399127175255, max_depth=9,\n",
       "               n_estimators=1496, num_leaves=61, reg_alpha=0, reg_lambda=0,\n",
       "               subsample=0.7678541169347383)</pre><b>In a Jupyter environment, please rerun this cell to show the HTML representation or trust the notebook. <br />On GitHub, the HTML representation is unable to render, please try loading this page with nbviewer.org.</b></div><div class=\"sk-container\" hidden><div class=\"sk-item\"><div class=\"sk-estimator sk-toggleable\"><input class=\"sk-toggleable__control sk-hidden--visually\" id=\"sk-estimator-id-1\" type=\"checkbox\" checked><label for=\"sk-estimator-id-1\" class=\"sk-toggleable__label sk-toggleable__label-arrow\">LGBMClassifier</label><div class=\"sk-toggleable__content\"><pre>LGBMClassifier(feature_fraction=0.510862048229996, lambda_l1=1, lambda_l2=2,\n",
       "               learning_rate=0.03923399127175255, max_depth=9,\n",
       "               n_estimators=1496, num_leaves=61, reg_alpha=0, reg_lambda=0,\n",
       "               subsample=0.7678541169347383)</pre></div></div></div></div></div>"
      ],
      "text/plain": [
       "LGBMClassifier(feature_fraction=0.510862048229996, lambda_l1=1, lambda_l2=2,\n",
       "               learning_rate=0.03923399127175255, max_depth=9,\n",
       "               n_estimators=1496, num_leaves=61, reg_alpha=0, reg_lambda=0,\n",
       "               subsample=0.7678541169347383)"
      ]
     },
     "execution_count": 20,
     "metadata": {},
     "output_type": "execute_result"
    }
   ],
   "source": [
    "lgbm = LGBMClassifier(**trial.params)\n",
    "lgbm.fit(x_train,y_train)"
   ]
  },
  {
   "cell_type": "markdown",
   "id": "11c804e7",
   "metadata": {
    "papermill": {
     "duration": 0.013015,
     "end_time": "2023-06-26T16:38:55.976561",
     "exception": false,
     "start_time": "2023-06-26T16:38:55.963546",
     "status": "completed"
    },
    "tags": []
   },
   "source": [
    "# 9. Making Predictions"
   ]
  },
  {
   "cell_type": "code",
   "execution_count": 21,
   "id": "6a68a5ff",
   "metadata": {
    "execution": {
     "iopub.execute_input": "2023-06-26T16:38:56.006021Z",
     "iopub.status.busy": "2023-06-26T16:38:56.005327Z",
     "iopub.status.idle": "2023-06-26T16:39:00.718914Z",
     "shell.execute_reply": "2023-06-26T16:39:00.718121Z"
    },
    "papermill": {
     "duration": 4.731222,
     "end_time": "2023-06-26T16:39:00.721388",
     "exception": false,
     "start_time": "2023-06-26T16:38:55.990166",
     "status": "completed"
    },
    "tags": []
   },
   "outputs": [],
   "source": [
    "pred = lgbm.predict_proba(test.drop('id',axis=1))"
   ]
  },
  {
   "cell_type": "markdown",
   "id": "408de638",
   "metadata": {
    "papermill": {
     "duration": 0.013371,
     "end_time": "2023-06-26T16:39:00.748557",
     "exception": false,
     "start_time": "2023-06-26T16:39:00.735186",
     "status": "completed"
    },
    "tags": []
   },
   "source": [
    "# 10. Submission"
   ]
  },
  {
   "cell_type": "code",
   "execution_count": 22,
   "id": "e2eb572c",
   "metadata": {
    "execution": {
     "iopub.execute_input": "2023-06-26T16:39:00.778185Z",
     "iopub.status.busy": "2023-06-26T16:39:00.777445Z",
     "iopub.status.idle": "2023-06-26T16:39:00.790128Z",
     "shell.execute_reply": "2023-06-26T16:39:00.789228Z"
    },
    "papermill": {
     "duration": 0.029825,
     "end_time": "2023-06-26T16:39:00.792063",
     "exception": false,
     "start_time": "2023-06-26T16:39:00.762238",
     "status": "completed"
    },
    "tags": []
   },
   "outputs": [
    {
     "data": {
      "text/html": [
       "<div>\n",
       "<style scoped>\n",
       "    .dataframe tbody tr th:only-of-type {\n",
       "        vertical-align: middle;\n",
       "    }\n",
       "\n",
       "    .dataframe tbody tr th {\n",
       "        vertical-align: top;\n",
       "    }\n",
       "\n",
       "    .dataframe thead th {\n",
       "        text-align: right;\n",
       "    }\n",
       "</style>\n",
       "<table border=\"1\" class=\"dataframe\">\n",
       "  <thead>\n",
       "    <tr style=\"text-align: right;\">\n",
       "      <th></th>\n",
       "      <th>id</th>\n",
       "      <th>Machine failure</th>\n",
       "    </tr>\n",
       "  </thead>\n",
       "  <tbody>\n",
       "    <tr>\n",
       "      <th>0</th>\n",
       "      <td>136429</td>\n",
       "      <td>0.002531</td>\n",
       "    </tr>\n",
       "    <tr>\n",
       "      <th>1</th>\n",
       "      <td>136430</td>\n",
       "      <td>0.001904</td>\n",
       "    </tr>\n",
       "    <tr>\n",
       "      <th>2</th>\n",
       "      <td>136431</td>\n",
       "      <td>0.000135</td>\n",
       "    </tr>\n",
       "    <tr>\n",
       "      <th>3</th>\n",
       "      <td>136432</td>\n",
       "      <td>0.000155</td>\n",
       "    </tr>\n",
       "    <tr>\n",
       "      <th>4</th>\n",
       "      <td>136433</td>\n",
       "      <td>0.000229</td>\n",
       "    </tr>\n",
       "    <tr>\n",
       "      <th>...</th>\n",
       "      <td>...</td>\n",
       "      <td>...</td>\n",
       "    </tr>\n",
       "    <tr>\n",
       "      <th>90949</th>\n",
       "      <td>227378</td>\n",
       "      <td>0.000534</td>\n",
       "    </tr>\n",
       "    <tr>\n",
       "      <th>90950</th>\n",
       "      <td>227379</td>\n",
       "      <td>0.000207</td>\n",
       "    </tr>\n",
       "    <tr>\n",
       "      <th>90951</th>\n",
       "      <td>227380</td>\n",
       "      <td>0.000202</td>\n",
       "    </tr>\n",
       "    <tr>\n",
       "      <th>90952</th>\n",
       "      <td>227381</td>\n",
       "      <td>0.000030</td>\n",
       "    </tr>\n",
       "    <tr>\n",
       "      <th>90953</th>\n",
       "      <td>227382</td>\n",
       "      <td>0.000278</td>\n",
       "    </tr>\n",
       "  </tbody>\n",
       "</table>\n",
       "<p>90954 rows × 2 columns</p>\n",
       "</div>"
      ],
      "text/plain": [
       "           id  Machine failure\n",
       "0      136429         0.002531\n",
       "1      136430         0.001904\n",
       "2      136431         0.000135\n",
       "3      136432         0.000155\n",
       "4      136433         0.000229\n",
       "...       ...              ...\n",
       "90949  227378         0.000534\n",
       "90950  227379         0.000207\n",
       "90951  227380         0.000202\n",
       "90952  227381         0.000030\n",
       "90953  227382         0.000278\n",
       "\n",
       "[90954 rows x 2 columns]"
      ]
     },
     "execution_count": 22,
     "metadata": {},
     "output_type": "execute_result"
    }
   ],
   "source": [
    "submission = pd.DataFrame(test['id'])\n",
    "submission['Machine failure'] = pred[:,1]\n",
    "submission"
   ]
  },
  {
   "cell_type": "code",
   "execution_count": 23,
   "id": "fd7d71f6",
   "metadata": {
    "execution": {
     "iopub.execute_input": "2023-06-26T16:39:00.821836Z",
     "iopub.status.busy": "2023-06-26T16:39:00.821149Z",
     "iopub.status.idle": "2023-06-26T16:39:01.005269Z",
     "shell.execute_reply": "2023-06-26T16:39:01.003524Z"
    },
    "papermill": {
     "duration": 0.201983,
     "end_time": "2023-06-26T16:39:01.007882",
     "exception": false,
     "start_time": "2023-06-26T16:39:00.805899",
     "status": "completed"
    },
    "tags": []
   },
   "outputs": [],
   "source": [
    "submission.to_csv('submission.csv',index=False)"
   ]
  }
 ],
 "metadata": {
  "kernelspec": {
   "display_name": "Python 3",
   "language": "python",
   "name": "python3"
  },
  "language_info": {
   "codemirror_mode": {
    "name": "ipython",
    "version": 3
   },
   "file_extension": ".py",
   "mimetype": "text/x-python",
   "name": "python",
   "nbconvert_exporter": "python",
   "pygments_lexer": "ipython3",
   "version": "3.10.10"
  },
  "papermill": {
   "default_parameters": {},
   "duration": 327.573993,
   "end_time": "2023-06-26T16:39:02.549994",
   "environment_variables": {},
   "exception": null,
   "input_path": "__notebook__.ipynb",
   "output_path": "__notebook__.ipynb",
   "parameters": {},
   "start_time": "2023-06-26T16:33:34.976001",
   "version": "2.4.0"
  }
 },
 "nbformat": 4,
 "nbformat_minor": 5
}
